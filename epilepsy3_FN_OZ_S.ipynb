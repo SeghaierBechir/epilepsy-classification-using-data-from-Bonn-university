{
  "nbformat": 4,
  "nbformat_minor": 0,
  "metadata": {
    "colab": {
      "provenance": []
    },
    "kernelspec": {
      "name": "python3",
      "display_name": "Python 3"
    },
    "language_info": {
      "name": "python"
    }
  },
  "cells": [
    {
      "cell_type": "markdown",
      "source": [
        "#Bibliothéque"
      ],
      "metadata": {
        "id": "adXqTwDIWgDQ"
      }
    },
    {
      "cell_type": "code",
      "execution_count": null,
      "metadata": {
        "id": "9DuGhpWSWdm8"
      },
      "outputs": [],
      "source": [
        "import numpy as np\n",
        "import pandas as pd\n",
        "import os\n",
        "import matplotlib.pyplot as plt\n",
        "import tensorflow as tf\n",
        "from tensorflow.keras.models import Model, Sequential\n",
        "from tensorflow.keras.layers import Conv2D, Conv2DTranspose, Dense, Flatten, Reshape, Input, LSTM,Dropout, BatchNormalization, TimeDistributed\n",
        "from tensorflow.keras.optimizers import Adam\n",
        "from tensorflow.keras.utils import to_categorical\n",
        "from sklearn.model_selection import train_test_split\n",
        "from sklearn.decomposition import PCA\n",
        "from sklearn.preprocessing import StandardScaler"
      ]
    },
    {
      "cell_type": "markdown",
      "source": [
        "#load data"
      ],
      "metadata": {
        "id": "s9eJ_DQtWnOa"
      }
    },
    {
      "cell_type": "code",
      "source": [
        "from google.colab import drive"
      ],
      "metadata": {
        "id": "P_G1Xhr3WpMT"
      },
      "execution_count": null,
      "outputs": []
    },
    {
      "cell_type": "code",
      "source": [
        "drive.mount('/content/gdrive')"
      ],
      "metadata": {
        "colab": {
          "base_uri": "https://localhost:8080/"
        },
        "id": "6Yioacr4WsDa",
        "outputId": "a8d8978c-0c57-423d-da1f-735d0682d88e"
      },
      "execution_count": null,
      "outputs": [
        {
          "output_type": "stream",
          "name": "stdout",
          "text": [
            "Mounted at /content/gdrive\n"
          ]
        }
      ]
    },
    {
      "cell_type": "code",
      "source": [
        "# List files in the dataset directory\n",
        "folder_path = '/content/gdrive/MyDrive/Bonn uni data/data/epilepsy_data'\n",
        "print(os.listdir(folder_path))"
      ],
      "metadata": {
        "colab": {
          "base_uri": "https://localhost:8080/"
        },
        "id": "9uGWhJV_WxK1",
        "outputId": "e739a70d-af98-4eec-9203-083f9c221fa7"
      },
      "execution_count": null,
      "outputs": [
        {
          "output_type": "stream",
          "name": "stdout",
          "text": [
            "['F', 'N', 'O', 'Z', 'S']\n"
          ]
        }
      ]
    },
    {
      "cell_type": "code",
      "source": [
        "# Check if there are subfolders for each class (e.g., Z, O, N, F, S)\n",
        "for subfolder in ['N', 'O', 'S', 'Z']:\n",
        "    subfolder_path = os.path.join(folder_path, subfolder)\n",
        "    if os.path.exists(subfolder_path):\n",
        "        print(f\"Contents of {subfolder_path}:\", os.listdir(subfolder_path))\n",
        "    else:\n",
        "        print(f\"Subfolder {subfolder} does not exist.\")"
      ],
      "metadata": {
        "colab": {
          "base_uri": "https://localhost:8080/"
        },
        "id": "pNmvqo-cW0id",
        "outputId": "050a45d7-24e5-4ddd-9806-198d7a7582b4"
      },
      "execution_count": null,
      "outputs": [
        {
          "output_type": "stream",
          "name": "stdout",
          "text": [
            "Contents of /content/gdrive/MyDrive/Bonn uni data/data/epilepsy_data/N: ['N038.txt', 'N011.txt', 'N005.txt', 'N039.txt', 'N014.txt', 'N006.txt', 'N007.txt', 'N003.txt', 'N012.txt', 'N004.txt', 'N002.txt', 'N016.txt', 'N010.txt', 'N028.txt', 'N017.txt', 'N015.txt', 'N013.txt', 'N071.txt', 'N029.txt', 'N059.txt', 'N001.txt', 'N099.txt', 'N072.txt', 'N065.txt', 'N058.txt', 'N073.txt', 'N067.txt', 'N098.txt', 'N066.txt', 'N064.txt', 'N070.txt', 'N049.txt', 'N060.txt', 'N047.txt', 'N076.txt', 'N075.txt', 'N048.txt', 'N088.txt', 'N089.txt', 'N061.txt', 'N062.txt', 'N100.txt', 'N077.txt', 'N074.txt', 'N063.txt', 'N053.txt', 'N044.txt', 'N086.txt', 'N092.txt', 'N093.txt', 'N087.txt', 'N091.txt', 'N079.txt', 'N090.txt', 'N052.txt', 'N085.txt', 'N046.txt', 'N084.txt', 'N050.txt', 'N078.txt', 'N069.txt', 'N045.txt', 'N083.txt', 'N068.txt', 'N042.txt', 'N041.txt', 'N054.txt', 'N056.txt', 'N082.txt', 'N040.txt', 'N097.txt', 'N096.txt', 'N051.txt', 'N055.txt', 'N019.txt', 'N033.txt', 'N095.txt', 'N094.txt', 'N027.txt', 'N031.txt', 'N024.txt', 'N080.txt', 'N057.txt', 'N081.txt', 'N030.txt', 'N025.txt', 'N018.txt', 'N043.txt', 'N026.txt', 'N037.txt', 'N032.txt', 'N020.txt', 'N034.txt', 'N022.txt', 'N008.txt', 'N023.txt', 'N009.txt', 'N035.txt', 'N036.txt', 'N021.txt']\n",
            "Contents of /content/gdrive/MyDrive/Bonn uni data/data/epilepsy_data/O: ['O045.txt', 'O079.txt', 'O051.txt', 'O090.txt', 'O053.txt', 'O085.txt', 'O092.txt', 'O050.txt', 'O084.txt', 'O087.txt', 'O046.txt', 'O093.txt', 'O044.txt', 'O078.txt', 'O086.txt', 'O091.txt', 'O052.txt', 'O056.txt', 'O043.txt', 'O057.txt', 'O081.txt', 'O040.txt', 'O094.txt', 'O095.txt', 'O097.txt', 'O047.txt', 'O080.txt', 'O068.txt', 'O042.txt', 'O054.txt', 'O033.txt', 'O082.txt', 'O069.txt', 'O031.txt', 'O026.txt', 'O025.txt', 'O027.txt', 'O096.txt', 'O041.txt', 'O032.txt', 'O019.txt', 'O055.txt', 'O083.txt', 'O022.txt', 'O034.txt', 'O036.txt', 'O037.txt', 'O018.txt', 'O023.txt', 'O030.txt', 'O008.txt', 'O035.txt', 'O024.txt', 'O021.txt', 'O009.txt', 'O020.txt', 'O013.txt', 'O016.txt', 'O038.txt', 'O015.txt', 'O005.txt', 'O029.txt', 'O014.txt', 'O004.txt', 'O007.txt', 'O039.txt', 'O028.txt', 'O006.txt', 'O012.txt', 'O010.txt', 'O011.txt', 'O001.txt', 'O073.txt', 'O002.txt', 'O071.txt', 'O099.txt', 'O059.txt', 'O067.txt', 'O003.txt', 'O058.txt', 'O064.txt', 'O065.txt', 'O098.txt', 'O070.txt', 'O017.txt', 'O066.txt', 'O063.txt', 'O076.txt', 'O088.txt', 'O060.txt', 'O089.txt', 'O077.txt', 'O048.txt', 'O061.txt', 'O100.txt', 'O049.txt', 'O072.txt', 'O062.txt', 'O075.txt', 'O074.txt']\n",
            "Contents of /content/gdrive/MyDrive/Bonn uni data/data/epilepsy_data/S: ['S020.txt', 'S008.txt', 'S021.txt', 'S025.txt', 'S036.txt', 'S034.txt', 'S019.txt', 'S027.txt', 'S009.txt', 'S022.txt', 'S031.txt', 'S037.txt', 'S033.txt', 'S026.txt', 'S023.txt', 'S035.txt', 'S032.txt', 'S095.txt', 'S054.txt', 'S056.txt', 'S018.txt', 'S030.txt', 'S043.txt', 'S068.txt', 'S057.txt', 'S081.txt', 'S080.txt', 'S042.txt', 'S094.txt', 'S024.txt', 'S092.txt', 'S069.txt', 'S079.txt', 'S096.txt', 'S083.txt', 'S045.txt', 'S082.txt', 'S097.txt', 'S087.txt', 'S041.txt', 'S051.txt', 'S040.txt', 'S086.txt', 'S055.txt', 'S085.txt', 'S078.txt', 'S053.txt', 'S052.txt', 'S076.txt', 'S047.txt', 'S091.txt', 'S062.txt', 'S090.txt', 'S089.txt', 'S046.txt', 'S044.txt', 'S084.txt', 'S050.txt', 'S093.txt', 'S077.txt', 'S049.txt', 'S048.txt', 'S070.txt', 'S075.txt', 'S061.txt', 'S088.txt', 'S100.txt', 'S060.txt', 'S063.txt', 'S074.txt', 'S064.txt', 'S071.txt', 'S001.txt', 'S015.txt', 'S029.txt', 'S059.txt', 'S014.txt', 'S099.txt', 'S072.txt', 'S066.txt', 'S098.txt', 'S073.txt', 'S067.txt', 'S058.txt', 'S065.txt', 'S012.txt', 'S004.txt', 'S006.txt', 'S016.txt', 'S007.txt', 'S038.txt', 'S003.txt', 'S017.txt', 'S002.txt', 'S010.txt', 'S013.txt', 'S011.txt', 'S028.txt', 'S039.txt', 'S005.txt']\n",
            "Contents of /content/gdrive/MyDrive/Bonn uni data/data/epilepsy_data/Z: ['Z005.txt', 'Z038.txt', 'Z004.txt', 'Z011.txt', 'Z010.txt', 'Z006.txt', 'Z007.txt', 'Z002.txt', 'Z012.txt', 'Z013.txt', 'Z003.txt', 'Z039.txt', 'Z001.txt', 'Z017.txt', 'Z016.txt', 'Z070.txt', 'Z028.txt', 'Z029.txt', 'Z015.txt', 'Z064.txt', 'Z014.txt', 'Z072.txt', 'Z099.txt', 'Z066.txt', 'Z098.txt', 'Z058.txt', 'Z067.txt', 'Z073.txt', 'Z100.txt', 'Z061.txt', 'Z048.txt', 'Z071.txt', 'Z075.txt', 'Z060.txt', 'Z059.txt', 'Z088.txt', 'Z089.txt', 'Z074.txt', 'Z065.txt', 'Z049.txt', 'Z062.txt', 'Z076.txt', 'Z051.txt', 'Z045.txt', 'Z092.txt', 'Z086.txt', 'Z053.txt', 'Z063.txt', 'Z085.txt', 'Z047.txt', 'Z090.txt', 'Z046.txt', 'Z077.txt', 'Z052.txt', 'Z079.txt', 'Z091.txt', 'Z084.txt', 'Z050.txt', 'Z041.txt', 'Z082.txt', 'Z083.txt', 'Z068.txt', 'Z093.txt', 'Z097.txt', 'Z040.txt', 'Z054.txt', 'Z096.txt', 'Z087.txt', 'Z044.txt', 'Z069.txt', 'Z078.txt', 'Z080.txt', 'Z056.txt', 'Z024.txt', 'Z055.txt', 'Z043.txt', 'Z042.txt', 'Z081.txt', 'Z025.txt', 'Z031.txt', 'Z057.txt', 'Z094.txt', 'Z095.txt', 'Z030.txt', 'Z019.txt', 'Z026.txt', 'Z027.txt', 'Z023.txt', 'Z036.txt', 'Z021.txt', 'Z018.txt', 'Z022.txt', 'Z035.txt', 'Z034.txt', 'Z009.txt', 'Z037.txt', 'Z020.txt', 'Z032.txt', 'Z033.txt', 'Z008.txt']\n"
          ]
        }
      ]
    },
    {
      "cell_type": "code",
      "source": [
        "def load_class_data(folder_path, class_prefix):\n",
        "    data = []\n",
        "    subfolder_path = os.path.join(folder_path, class_prefix)  # Add subfolder\n",
        "    for i in range(1, 101):\n",
        "        file_name = f\"{class_prefix}{i:03}.txt\"  # e.g., Z001.txt, Z002.txt, etc.\n",
        "        file_path = os.path.join(subfolder_path, file_name)  # File path with subfolder\n",
        "        print(f\"Attempting to load file: {file_path}\")  # Debugging line\n",
        "\n",
        "        if os.path.isfile(file_path):\n",
        "            try:\n",
        "                signal = np.loadtxt(file_path)\n",
        "                data.append(signal)\n",
        "            except ValueError as e:\n",
        "                print(f\"Error loading {file_path}: {e}\")\n",
        "        else:\n",
        "            print(f\"File not found: {file_path}\")\n",
        "    return np.array(data)"
      ],
      "metadata": {
        "id": "hX0r7R9tW88L"
      },
      "execution_count": null,
      "outputs": []
    },
    {
      "cell_type": "code",
      "source": [
        "# Load data for each class (update folder paths as per your Kaggle structure)\n",
        "folder_path = '/content/gdrive/MyDrive/Bonn uni data/data/epilepsy_data'\n",
        "class_data_F = load_class_data(folder_path, 'F')\n",
        "class_data_N = load_class_data(folder_path, 'N')\n",
        "class_data_O = load_class_data(folder_path, 'O')\n",
        "class_data_Z = load_class_data(folder_path, 'Z')\n",
        "class_data_S = load_class_data(folder_path, 'S')"
      ],
      "metadata": {
        "colab": {
          "base_uri": "https://localhost:8080/"
        },
        "id": "EPom7E6SXEDF",
        "outputId": "842e402c-a517-4158-b834-f05ea2c3f284"
      },
      "execution_count": null,
      "outputs": [
        {
          "output_type": "stream",
          "name": "stdout",
          "text": [
            "Attempting to load file: /content/gdrive/MyDrive/Bonn uni data/data/epilepsy_data/F/F001.txt\n",
            "Attempting to load file: /content/gdrive/MyDrive/Bonn uni data/data/epilepsy_data/F/F002.txt\n",
            "Attempting to load file: /content/gdrive/MyDrive/Bonn uni data/data/epilepsy_data/F/F003.txt\n",
            "Attempting to load file: /content/gdrive/MyDrive/Bonn uni data/data/epilepsy_data/F/F004.txt\n",
            "Attempting to load file: /content/gdrive/MyDrive/Bonn uni data/data/epilepsy_data/F/F005.txt\n",
            "Attempting to load file: /content/gdrive/MyDrive/Bonn uni data/data/epilepsy_data/F/F006.txt\n",
            "Attempting to load file: /content/gdrive/MyDrive/Bonn uni data/data/epilepsy_data/F/F007.txt\n",
            "Attempting to load file: /content/gdrive/MyDrive/Bonn uni data/data/epilepsy_data/F/F008.txt\n",
            "Attempting to load file: /content/gdrive/MyDrive/Bonn uni data/data/epilepsy_data/F/F009.txt\n",
            "Attempting to load file: /content/gdrive/MyDrive/Bonn uni data/data/epilepsy_data/F/F010.txt\n",
            "Attempting to load file: /content/gdrive/MyDrive/Bonn uni data/data/epilepsy_data/F/F011.txt\n",
            "Attempting to load file: /content/gdrive/MyDrive/Bonn uni data/data/epilepsy_data/F/F012.txt\n",
            "Attempting to load file: /content/gdrive/MyDrive/Bonn uni data/data/epilepsy_data/F/F013.txt\n",
            "Attempting to load file: /content/gdrive/MyDrive/Bonn uni data/data/epilepsy_data/F/F014.txt\n",
            "Attempting to load file: /content/gdrive/MyDrive/Bonn uni data/data/epilepsy_data/F/F015.txt\n",
            "Attempting to load file: /content/gdrive/MyDrive/Bonn uni data/data/epilepsy_data/F/F016.txt\n",
            "Attempting to load file: /content/gdrive/MyDrive/Bonn uni data/data/epilepsy_data/F/F017.txt\n",
            "Attempting to load file: /content/gdrive/MyDrive/Bonn uni data/data/epilepsy_data/F/F018.txt\n",
            "Attempting to load file: /content/gdrive/MyDrive/Bonn uni data/data/epilepsy_data/F/F019.txt\n",
            "Attempting to load file: /content/gdrive/MyDrive/Bonn uni data/data/epilepsy_data/F/F020.txt\n",
            "Attempting to load file: /content/gdrive/MyDrive/Bonn uni data/data/epilepsy_data/F/F021.txt\n",
            "Attempting to load file: /content/gdrive/MyDrive/Bonn uni data/data/epilepsy_data/F/F022.txt\n",
            "Attempting to load file: /content/gdrive/MyDrive/Bonn uni data/data/epilepsy_data/F/F023.txt\n",
            "Attempting to load file: /content/gdrive/MyDrive/Bonn uni data/data/epilepsy_data/F/F024.txt\n",
            "Attempting to load file: /content/gdrive/MyDrive/Bonn uni data/data/epilepsy_data/F/F025.txt\n",
            "Attempting to load file: /content/gdrive/MyDrive/Bonn uni data/data/epilepsy_data/F/F026.txt\n",
            "Attempting to load file: /content/gdrive/MyDrive/Bonn uni data/data/epilepsy_data/F/F027.txt\n",
            "Attempting to load file: /content/gdrive/MyDrive/Bonn uni data/data/epilepsy_data/F/F028.txt\n",
            "Attempting to load file: /content/gdrive/MyDrive/Bonn uni data/data/epilepsy_data/F/F029.txt\n",
            "Attempting to load file: /content/gdrive/MyDrive/Bonn uni data/data/epilepsy_data/F/F030.txt\n",
            "Attempting to load file: /content/gdrive/MyDrive/Bonn uni data/data/epilepsy_data/F/F031.txt\n",
            "Attempting to load file: /content/gdrive/MyDrive/Bonn uni data/data/epilepsy_data/F/F032.txt\n",
            "Attempting to load file: /content/gdrive/MyDrive/Bonn uni data/data/epilepsy_data/F/F033.txt\n",
            "Attempting to load file: /content/gdrive/MyDrive/Bonn uni data/data/epilepsy_data/F/F034.txt\n",
            "Attempting to load file: /content/gdrive/MyDrive/Bonn uni data/data/epilepsy_data/F/F035.txt\n",
            "Attempting to load file: /content/gdrive/MyDrive/Bonn uni data/data/epilepsy_data/F/F036.txt\n",
            "Attempting to load file: /content/gdrive/MyDrive/Bonn uni data/data/epilepsy_data/F/F037.txt\n",
            "Attempting to load file: /content/gdrive/MyDrive/Bonn uni data/data/epilepsy_data/F/F038.txt\n",
            "Attempting to load file: /content/gdrive/MyDrive/Bonn uni data/data/epilepsy_data/F/F039.txt\n",
            "Attempting to load file: /content/gdrive/MyDrive/Bonn uni data/data/epilepsy_data/F/F040.txt\n",
            "Attempting to load file: /content/gdrive/MyDrive/Bonn uni data/data/epilepsy_data/F/F041.txt\n",
            "Attempting to load file: /content/gdrive/MyDrive/Bonn uni data/data/epilepsy_data/F/F042.txt\n",
            "Attempting to load file: /content/gdrive/MyDrive/Bonn uni data/data/epilepsy_data/F/F043.txt\n",
            "Attempting to load file: /content/gdrive/MyDrive/Bonn uni data/data/epilepsy_data/F/F044.txt\n",
            "Attempting to load file: /content/gdrive/MyDrive/Bonn uni data/data/epilepsy_data/F/F045.txt\n",
            "Attempting to load file: /content/gdrive/MyDrive/Bonn uni data/data/epilepsy_data/F/F046.txt\n",
            "Attempting to load file: /content/gdrive/MyDrive/Bonn uni data/data/epilepsy_data/F/F047.txt\n",
            "Attempting to load file: /content/gdrive/MyDrive/Bonn uni data/data/epilepsy_data/F/F048.txt\n",
            "Attempting to load file: /content/gdrive/MyDrive/Bonn uni data/data/epilepsy_data/F/F049.txt\n",
            "Attempting to load file: /content/gdrive/MyDrive/Bonn uni data/data/epilepsy_data/F/F050.txt\n",
            "Attempting to load file: /content/gdrive/MyDrive/Bonn uni data/data/epilepsy_data/F/F051.txt\n",
            "Attempting to load file: /content/gdrive/MyDrive/Bonn uni data/data/epilepsy_data/F/F052.txt\n",
            "Attempting to load file: /content/gdrive/MyDrive/Bonn uni data/data/epilepsy_data/F/F053.txt\n",
            "Attempting to load file: /content/gdrive/MyDrive/Bonn uni data/data/epilepsy_data/F/F054.txt\n",
            "Attempting to load file: /content/gdrive/MyDrive/Bonn uni data/data/epilepsy_data/F/F055.txt\n",
            "Attempting to load file: /content/gdrive/MyDrive/Bonn uni data/data/epilepsy_data/F/F056.txt\n",
            "Attempting to load file: /content/gdrive/MyDrive/Bonn uni data/data/epilepsy_data/F/F057.txt\n",
            "Attempting to load file: /content/gdrive/MyDrive/Bonn uni data/data/epilepsy_data/F/F058.txt\n",
            "Attempting to load file: /content/gdrive/MyDrive/Bonn uni data/data/epilepsy_data/F/F059.txt\n",
            "Attempting to load file: /content/gdrive/MyDrive/Bonn uni data/data/epilepsy_data/F/F060.txt\n",
            "Attempting to load file: /content/gdrive/MyDrive/Bonn uni data/data/epilepsy_data/F/F061.txt\n",
            "Attempting to load file: /content/gdrive/MyDrive/Bonn uni data/data/epilepsy_data/F/F062.txt\n",
            "Attempting to load file: /content/gdrive/MyDrive/Bonn uni data/data/epilepsy_data/F/F063.txt\n",
            "Attempting to load file: /content/gdrive/MyDrive/Bonn uni data/data/epilepsy_data/F/F064.txt\n",
            "Attempting to load file: /content/gdrive/MyDrive/Bonn uni data/data/epilepsy_data/F/F065.txt\n",
            "Attempting to load file: /content/gdrive/MyDrive/Bonn uni data/data/epilepsy_data/F/F066.txt\n",
            "Attempting to load file: /content/gdrive/MyDrive/Bonn uni data/data/epilepsy_data/F/F067.txt\n",
            "Attempting to load file: /content/gdrive/MyDrive/Bonn uni data/data/epilepsy_data/F/F068.txt\n",
            "Attempting to load file: /content/gdrive/MyDrive/Bonn uni data/data/epilepsy_data/F/F069.txt\n",
            "Attempting to load file: /content/gdrive/MyDrive/Bonn uni data/data/epilepsy_data/F/F070.txt\n",
            "Attempting to load file: /content/gdrive/MyDrive/Bonn uni data/data/epilepsy_data/F/F071.txt\n",
            "Attempting to load file: /content/gdrive/MyDrive/Bonn uni data/data/epilepsy_data/F/F072.txt\n",
            "Attempting to load file: /content/gdrive/MyDrive/Bonn uni data/data/epilepsy_data/F/F073.txt\n",
            "Attempting to load file: /content/gdrive/MyDrive/Bonn uni data/data/epilepsy_data/F/F074.txt\n",
            "Attempting to load file: /content/gdrive/MyDrive/Bonn uni data/data/epilepsy_data/F/F075.txt\n",
            "Attempting to load file: /content/gdrive/MyDrive/Bonn uni data/data/epilepsy_data/F/F076.txt\n",
            "Attempting to load file: /content/gdrive/MyDrive/Bonn uni data/data/epilepsy_data/F/F077.txt\n",
            "Attempting to load file: /content/gdrive/MyDrive/Bonn uni data/data/epilepsy_data/F/F078.txt\n",
            "Attempting to load file: /content/gdrive/MyDrive/Bonn uni data/data/epilepsy_data/F/F079.txt\n",
            "Attempting to load file: /content/gdrive/MyDrive/Bonn uni data/data/epilepsy_data/F/F080.txt\n",
            "Attempting to load file: /content/gdrive/MyDrive/Bonn uni data/data/epilepsy_data/F/F081.txt\n",
            "Attempting to load file: /content/gdrive/MyDrive/Bonn uni data/data/epilepsy_data/F/F082.txt\n",
            "Attempting to load file: /content/gdrive/MyDrive/Bonn uni data/data/epilepsy_data/F/F083.txt\n",
            "Attempting to load file: /content/gdrive/MyDrive/Bonn uni data/data/epilepsy_data/F/F084.txt\n",
            "Attempting to load file: /content/gdrive/MyDrive/Bonn uni data/data/epilepsy_data/F/F085.txt\n",
            "Attempting to load file: /content/gdrive/MyDrive/Bonn uni data/data/epilepsy_data/F/F086.txt\n",
            "Attempting to load file: /content/gdrive/MyDrive/Bonn uni data/data/epilepsy_data/F/F087.txt\n",
            "Attempting to load file: /content/gdrive/MyDrive/Bonn uni data/data/epilepsy_data/F/F088.txt\n",
            "Attempting to load file: /content/gdrive/MyDrive/Bonn uni data/data/epilepsy_data/F/F089.txt\n",
            "Attempting to load file: /content/gdrive/MyDrive/Bonn uni data/data/epilepsy_data/F/F090.txt\n",
            "Attempting to load file: /content/gdrive/MyDrive/Bonn uni data/data/epilepsy_data/F/F091.txt\n",
            "Attempting to load file: /content/gdrive/MyDrive/Bonn uni data/data/epilepsy_data/F/F092.txt\n",
            "Attempting to load file: /content/gdrive/MyDrive/Bonn uni data/data/epilepsy_data/F/F093.txt\n",
            "Attempting to load file: /content/gdrive/MyDrive/Bonn uni data/data/epilepsy_data/F/F094.txt\n",
            "Attempting to load file: /content/gdrive/MyDrive/Bonn uni data/data/epilepsy_data/F/F095.txt\n",
            "Attempting to load file: /content/gdrive/MyDrive/Bonn uni data/data/epilepsy_data/F/F096.txt\n",
            "Attempting to load file: /content/gdrive/MyDrive/Bonn uni data/data/epilepsy_data/F/F097.txt\n",
            "Attempting to load file: /content/gdrive/MyDrive/Bonn uni data/data/epilepsy_data/F/F098.txt\n",
            "Attempting to load file: /content/gdrive/MyDrive/Bonn uni data/data/epilepsy_data/F/F099.txt\n",
            "Attempting to load file: /content/gdrive/MyDrive/Bonn uni data/data/epilepsy_data/F/F100.txt\n",
            "Attempting to load file: /content/gdrive/MyDrive/Bonn uni data/data/epilepsy_data/N/N001.txt\n",
            "Attempting to load file: /content/gdrive/MyDrive/Bonn uni data/data/epilepsy_data/N/N002.txt\n",
            "Attempting to load file: /content/gdrive/MyDrive/Bonn uni data/data/epilepsy_data/N/N003.txt\n",
            "Attempting to load file: /content/gdrive/MyDrive/Bonn uni data/data/epilepsy_data/N/N004.txt\n",
            "Attempting to load file: /content/gdrive/MyDrive/Bonn uni data/data/epilepsy_data/N/N005.txt\n",
            "Attempting to load file: /content/gdrive/MyDrive/Bonn uni data/data/epilepsy_data/N/N006.txt\n",
            "Attempting to load file: /content/gdrive/MyDrive/Bonn uni data/data/epilepsy_data/N/N007.txt\n",
            "Attempting to load file: /content/gdrive/MyDrive/Bonn uni data/data/epilepsy_data/N/N008.txt\n",
            "Attempting to load file: /content/gdrive/MyDrive/Bonn uni data/data/epilepsy_data/N/N009.txt\n",
            "Attempting to load file: /content/gdrive/MyDrive/Bonn uni data/data/epilepsy_data/N/N010.txt\n",
            "Attempting to load file: /content/gdrive/MyDrive/Bonn uni data/data/epilepsy_data/N/N011.txt\n",
            "Attempting to load file: /content/gdrive/MyDrive/Bonn uni data/data/epilepsy_data/N/N012.txt\n",
            "Attempting to load file: /content/gdrive/MyDrive/Bonn uni data/data/epilepsy_data/N/N013.txt\n",
            "Attempting to load file: /content/gdrive/MyDrive/Bonn uni data/data/epilepsy_data/N/N014.txt\n",
            "Attempting to load file: /content/gdrive/MyDrive/Bonn uni data/data/epilepsy_data/N/N015.txt\n",
            "Attempting to load file: /content/gdrive/MyDrive/Bonn uni data/data/epilepsy_data/N/N016.txt\n",
            "Attempting to load file: /content/gdrive/MyDrive/Bonn uni data/data/epilepsy_data/N/N017.txt\n",
            "Attempting to load file: /content/gdrive/MyDrive/Bonn uni data/data/epilepsy_data/N/N018.txt\n",
            "Attempting to load file: /content/gdrive/MyDrive/Bonn uni data/data/epilepsy_data/N/N019.txt\n",
            "Attempting to load file: /content/gdrive/MyDrive/Bonn uni data/data/epilepsy_data/N/N020.txt\n",
            "Attempting to load file: /content/gdrive/MyDrive/Bonn uni data/data/epilepsy_data/N/N021.txt\n",
            "Attempting to load file: /content/gdrive/MyDrive/Bonn uni data/data/epilepsy_data/N/N022.txt\n",
            "Attempting to load file: /content/gdrive/MyDrive/Bonn uni data/data/epilepsy_data/N/N023.txt\n",
            "Attempting to load file: /content/gdrive/MyDrive/Bonn uni data/data/epilepsy_data/N/N024.txt\n",
            "Attempting to load file: /content/gdrive/MyDrive/Bonn uni data/data/epilepsy_data/N/N025.txt\n",
            "Attempting to load file: /content/gdrive/MyDrive/Bonn uni data/data/epilepsy_data/N/N026.txt\n",
            "Attempting to load file: /content/gdrive/MyDrive/Bonn uni data/data/epilepsy_data/N/N027.txt\n",
            "Attempting to load file: /content/gdrive/MyDrive/Bonn uni data/data/epilepsy_data/N/N028.txt\n",
            "Attempting to load file: /content/gdrive/MyDrive/Bonn uni data/data/epilepsy_data/N/N029.txt\n",
            "Attempting to load file: /content/gdrive/MyDrive/Bonn uni data/data/epilepsy_data/N/N030.txt\n",
            "Attempting to load file: /content/gdrive/MyDrive/Bonn uni data/data/epilepsy_data/N/N031.txt\n",
            "Attempting to load file: /content/gdrive/MyDrive/Bonn uni data/data/epilepsy_data/N/N032.txt\n",
            "Attempting to load file: /content/gdrive/MyDrive/Bonn uni data/data/epilepsy_data/N/N033.txt\n",
            "Attempting to load file: /content/gdrive/MyDrive/Bonn uni data/data/epilepsy_data/N/N034.txt\n",
            "Attempting to load file: /content/gdrive/MyDrive/Bonn uni data/data/epilepsy_data/N/N035.txt\n",
            "Attempting to load file: /content/gdrive/MyDrive/Bonn uni data/data/epilepsy_data/N/N036.txt\n",
            "Attempting to load file: /content/gdrive/MyDrive/Bonn uni data/data/epilepsy_data/N/N037.txt\n",
            "Attempting to load file: /content/gdrive/MyDrive/Bonn uni data/data/epilepsy_data/N/N038.txt\n",
            "Attempting to load file: /content/gdrive/MyDrive/Bonn uni data/data/epilepsy_data/N/N039.txt\n",
            "Attempting to load file: /content/gdrive/MyDrive/Bonn uni data/data/epilepsy_data/N/N040.txt\n",
            "Attempting to load file: /content/gdrive/MyDrive/Bonn uni data/data/epilepsy_data/N/N041.txt\n",
            "Attempting to load file: /content/gdrive/MyDrive/Bonn uni data/data/epilepsy_data/N/N042.txt\n",
            "Attempting to load file: /content/gdrive/MyDrive/Bonn uni data/data/epilepsy_data/N/N043.txt\n",
            "Attempting to load file: /content/gdrive/MyDrive/Bonn uni data/data/epilepsy_data/N/N044.txt\n",
            "Attempting to load file: /content/gdrive/MyDrive/Bonn uni data/data/epilepsy_data/N/N045.txt\n",
            "Attempting to load file: /content/gdrive/MyDrive/Bonn uni data/data/epilepsy_data/N/N046.txt\n",
            "Attempting to load file: /content/gdrive/MyDrive/Bonn uni data/data/epilepsy_data/N/N047.txt\n",
            "Attempting to load file: /content/gdrive/MyDrive/Bonn uni data/data/epilepsy_data/N/N048.txt\n",
            "Attempting to load file: /content/gdrive/MyDrive/Bonn uni data/data/epilepsy_data/N/N049.txt\n",
            "Attempting to load file: /content/gdrive/MyDrive/Bonn uni data/data/epilepsy_data/N/N050.txt\n",
            "Attempting to load file: /content/gdrive/MyDrive/Bonn uni data/data/epilepsy_data/N/N051.txt\n",
            "Attempting to load file: /content/gdrive/MyDrive/Bonn uni data/data/epilepsy_data/N/N052.txt\n",
            "Attempting to load file: /content/gdrive/MyDrive/Bonn uni data/data/epilepsy_data/N/N053.txt\n",
            "Attempting to load file: /content/gdrive/MyDrive/Bonn uni data/data/epilepsy_data/N/N054.txt\n",
            "Attempting to load file: /content/gdrive/MyDrive/Bonn uni data/data/epilepsy_data/N/N055.txt\n",
            "Attempting to load file: /content/gdrive/MyDrive/Bonn uni data/data/epilepsy_data/N/N056.txt\n",
            "Attempting to load file: /content/gdrive/MyDrive/Bonn uni data/data/epilepsy_data/N/N057.txt\n",
            "Attempting to load file: /content/gdrive/MyDrive/Bonn uni data/data/epilepsy_data/N/N058.txt\n",
            "Attempting to load file: /content/gdrive/MyDrive/Bonn uni data/data/epilepsy_data/N/N059.txt\n",
            "Attempting to load file: /content/gdrive/MyDrive/Bonn uni data/data/epilepsy_data/N/N060.txt\n",
            "Attempting to load file: /content/gdrive/MyDrive/Bonn uni data/data/epilepsy_data/N/N061.txt\n",
            "Attempting to load file: /content/gdrive/MyDrive/Bonn uni data/data/epilepsy_data/N/N062.txt\n",
            "Attempting to load file: /content/gdrive/MyDrive/Bonn uni data/data/epilepsy_data/N/N063.txt\n",
            "Attempting to load file: /content/gdrive/MyDrive/Bonn uni data/data/epilepsy_data/N/N064.txt\n",
            "Attempting to load file: /content/gdrive/MyDrive/Bonn uni data/data/epilepsy_data/N/N065.txt\n",
            "Attempting to load file: /content/gdrive/MyDrive/Bonn uni data/data/epilepsy_data/N/N066.txt\n",
            "Attempting to load file: /content/gdrive/MyDrive/Bonn uni data/data/epilepsy_data/N/N067.txt\n",
            "Attempting to load file: /content/gdrive/MyDrive/Bonn uni data/data/epilepsy_data/N/N068.txt\n",
            "Attempting to load file: /content/gdrive/MyDrive/Bonn uni data/data/epilepsy_data/N/N069.txt\n",
            "Attempting to load file: /content/gdrive/MyDrive/Bonn uni data/data/epilepsy_data/N/N070.txt\n",
            "Attempting to load file: /content/gdrive/MyDrive/Bonn uni data/data/epilepsy_data/N/N071.txt\n",
            "Attempting to load file: /content/gdrive/MyDrive/Bonn uni data/data/epilepsy_data/N/N072.txt\n",
            "Attempting to load file: /content/gdrive/MyDrive/Bonn uni data/data/epilepsy_data/N/N073.txt\n",
            "Attempting to load file: /content/gdrive/MyDrive/Bonn uni data/data/epilepsy_data/N/N074.txt\n",
            "Attempting to load file: /content/gdrive/MyDrive/Bonn uni data/data/epilepsy_data/N/N075.txt\n",
            "Attempting to load file: /content/gdrive/MyDrive/Bonn uni data/data/epilepsy_data/N/N076.txt\n",
            "Attempting to load file: /content/gdrive/MyDrive/Bonn uni data/data/epilepsy_data/N/N077.txt\n",
            "Attempting to load file: /content/gdrive/MyDrive/Bonn uni data/data/epilepsy_data/N/N078.txt\n",
            "Attempting to load file: /content/gdrive/MyDrive/Bonn uni data/data/epilepsy_data/N/N079.txt\n",
            "Attempting to load file: /content/gdrive/MyDrive/Bonn uni data/data/epilepsy_data/N/N080.txt\n",
            "Attempting to load file: /content/gdrive/MyDrive/Bonn uni data/data/epilepsy_data/N/N081.txt\n",
            "Attempting to load file: /content/gdrive/MyDrive/Bonn uni data/data/epilepsy_data/N/N082.txt\n",
            "Attempting to load file: /content/gdrive/MyDrive/Bonn uni data/data/epilepsy_data/N/N083.txt\n",
            "Attempting to load file: /content/gdrive/MyDrive/Bonn uni data/data/epilepsy_data/N/N084.txt\n",
            "Attempting to load file: /content/gdrive/MyDrive/Bonn uni data/data/epilepsy_data/N/N085.txt\n",
            "Attempting to load file: /content/gdrive/MyDrive/Bonn uni data/data/epilepsy_data/N/N086.txt\n",
            "Attempting to load file: /content/gdrive/MyDrive/Bonn uni data/data/epilepsy_data/N/N087.txt\n",
            "Attempting to load file: /content/gdrive/MyDrive/Bonn uni data/data/epilepsy_data/N/N088.txt\n",
            "Attempting to load file: /content/gdrive/MyDrive/Bonn uni data/data/epilepsy_data/N/N089.txt\n",
            "Attempting to load file: /content/gdrive/MyDrive/Bonn uni data/data/epilepsy_data/N/N090.txt\n",
            "Attempting to load file: /content/gdrive/MyDrive/Bonn uni data/data/epilepsy_data/N/N091.txt\n",
            "Attempting to load file: /content/gdrive/MyDrive/Bonn uni data/data/epilepsy_data/N/N092.txt\n",
            "Attempting to load file: /content/gdrive/MyDrive/Bonn uni data/data/epilepsy_data/N/N093.txt\n",
            "Attempting to load file: /content/gdrive/MyDrive/Bonn uni data/data/epilepsy_data/N/N094.txt\n",
            "Attempting to load file: /content/gdrive/MyDrive/Bonn uni data/data/epilepsy_data/N/N095.txt\n",
            "Attempting to load file: /content/gdrive/MyDrive/Bonn uni data/data/epilepsy_data/N/N096.txt\n",
            "Attempting to load file: /content/gdrive/MyDrive/Bonn uni data/data/epilepsy_data/N/N097.txt\n",
            "Attempting to load file: /content/gdrive/MyDrive/Bonn uni data/data/epilepsy_data/N/N098.txt\n",
            "Attempting to load file: /content/gdrive/MyDrive/Bonn uni data/data/epilepsy_data/N/N099.txt\n",
            "Attempting to load file: /content/gdrive/MyDrive/Bonn uni data/data/epilepsy_data/N/N100.txt\n",
            "Attempting to load file: /content/gdrive/MyDrive/Bonn uni data/data/epilepsy_data/O/O001.txt\n",
            "Attempting to load file: /content/gdrive/MyDrive/Bonn uni data/data/epilepsy_data/O/O002.txt\n",
            "Attempting to load file: /content/gdrive/MyDrive/Bonn uni data/data/epilepsy_data/O/O003.txt\n",
            "Attempting to load file: /content/gdrive/MyDrive/Bonn uni data/data/epilepsy_data/O/O004.txt\n",
            "Attempting to load file: /content/gdrive/MyDrive/Bonn uni data/data/epilepsy_data/O/O005.txt\n",
            "Attempting to load file: /content/gdrive/MyDrive/Bonn uni data/data/epilepsy_data/O/O006.txt\n",
            "Attempting to load file: /content/gdrive/MyDrive/Bonn uni data/data/epilepsy_data/O/O007.txt\n",
            "Attempting to load file: /content/gdrive/MyDrive/Bonn uni data/data/epilepsy_data/O/O008.txt\n",
            "Attempting to load file: /content/gdrive/MyDrive/Bonn uni data/data/epilepsy_data/O/O009.txt\n",
            "Attempting to load file: /content/gdrive/MyDrive/Bonn uni data/data/epilepsy_data/O/O010.txt\n",
            "Attempting to load file: /content/gdrive/MyDrive/Bonn uni data/data/epilepsy_data/O/O011.txt\n",
            "Attempting to load file: /content/gdrive/MyDrive/Bonn uni data/data/epilepsy_data/O/O012.txt\n",
            "Attempting to load file: /content/gdrive/MyDrive/Bonn uni data/data/epilepsy_data/O/O013.txt\n",
            "Attempting to load file: /content/gdrive/MyDrive/Bonn uni data/data/epilepsy_data/O/O014.txt\n",
            "Attempting to load file: /content/gdrive/MyDrive/Bonn uni data/data/epilepsy_data/O/O015.txt\n",
            "Attempting to load file: /content/gdrive/MyDrive/Bonn uni data/data/epilepsy_data/O/O016.txt\n",
            "Attempting to load file: /content/gdrive/MyDrive/Bonn uni data/data/epilepsy_data/O/O017.txt\n",
            "Attempting to load file: /content/gdrive/MyDrive/Bonn uni data/data/epilepsy_data/O/O018.txt\n",
            "Attempting to load file: /content/gdrive/MyDrive/Bonn uni data/data/epilepsy_data/O/O019.txt\n",
            "Attempting to load file: /content/gdrive/MyDrive/Bonn uni data/data/epilepsy_data/O/O020.txt\n",
            "Attempting to load file: /content/gdrive/MyDrive/Bonn uni data/data/epilepsy_data/O/O021.txt\n",
            "Attempting to load file: /content/gdrive/MyDrive/Bonn uni data/data/epilepsy_data/O/O022.txt\n",
            "Attempting to load file: /content/gdrive/MyDrive/Bonn uni data/data/epilepsy_data/O/O023.txt\n",
            "Attempting to load file: /content/gdrive/MyDrive/Bonn uni data/data/epilepsy_data/O/O024.txt\n",
            "Attempting to load file: /content/gdrive/MyDrive/Bonn uni data/data/epilepsy_data/O/O025.txt\n",
            "Attempting to load file: /content/gdrive/MyDrive/Bonn uni data/data/epilepsy_data/O/O026.txt\n",
            "Attempting to load file: /content/gdrive/MyDrive/Bonn uni data/data/epilepsy_data/O/O027.txt\n",
            "Attempting to load file: /content/gdrive/MyDrive/Bonn uni data/data/epilepsy_data/O/O028.txt\n",
            "Attempting to load file: /content/gdrive/MyDrive/Bonn uni data/data/epilepsy_data/O/O029.txt\n",
            "Attempting to load file: /content/gdrive/MyDrive/Bonn uni data/data/epilepsy_data/O/O030.txt\n",
            "Attempting to load file: /content/gdrive/MyDrive/Bonn uni data/data/epilepsy_data/O/O031.txt\n",
            "Attempting to load file: /content/gdrive/MyDrive/Bonn uni data/data/epilepsy_data/O/O032.txt\n",
            "Attempting to load file: /content/gdrive/MyDrive/Bonn uni data/data/epilepsy_data/O/O033.txt\n",
            "Attempting to load file: /content/gdrive/MyDrive/Bonn uni data/data/epilepsy_data/O/O034.txt\n",
            "Attempting to load file: /content/gdrive/MyDrive/Bonn uni data/data/epilepsy_data/O/O035.txt\n",
            "Attempting to load file: /content/gdrive/MyDrive/Bonn uni data/data/epilepsy_data/O/O036.txt\n",
            "Attempting to load file: /content/gdrive/MyDrive/Bonn uni data/data/epilepsy_data/O/O037.txt\n",
            "Attempting to load file: /content/gdrive/MyDrive/Bonn uni data/data/epilepsy_data/O/O038.txt\n",
            "Attempting to load file: /content/gdrive/MyDrive/Bonn uni data/data/epilepsy_data/O/O039.txt\n",
            "Attempting to load file: /content/gdrive/MyDrive/Bonn uni data/data/epilepsy_data/O/O040.txt\n",
            "Attempting to load file: /content/gdrive/MyDrive/Bonn uni data/data/epilepsy_data/O/O041.txt\n",
            "Attempting to load file: /content/gdrive/MyDrive/Bonn uni data/data/epilepsy_data/O/O042.txt\n",
            "Attempting to load file: /content/gdrive/MyDrive/Bonn uni data/data/epilepsy_data/O/O043.txt\n",
            "Attempting to load file: /content/gdrive/MyDrive/Bonn uni data/data/epilepsy_data/O/O044.txt\n",
            "Attempting to load file: /content/gdrive/MyDrive/Bonn uni data/data/epilepsy_data/O/O045.txt\n",
            "Attempting to load file: /content/gdrive/MyDrive/Bonn uni data/data/epilepsy_data/O/O046.txt\n",
            "Attempting to load file: /content/gdrive/MyDrive/Bonn uni data/data/epilepsy_data/O/O047.txt\n",
            "Attempting to load file: /content/gdrive/MyDrive/Bonn uni data/data/epilepsy_data/O/O048.txt\n",
            "Attempting to load file: /content/gdrive/MyDrive/Bonn uni data/data/epilepsy_data/O/O049.txt\n",
            "Attempting to load file: /content/gdrive/MyDrive/Bonn uni data/data/epilepsy_data/O/O050.txt\n",
            "Attempting to load file: /content/gdrive/MyDrive/Bonn uni data/data/epilepsy_data/O/O051.txt\n",
            "Attempting to load file: /content/gdrive/MyDrive/Bonn uni data/data/epilepsy_data/O/O052.txt\n",
            "Attempting to load file: /content/gdrive/MyDrive/Bonn uni data/data/epilepsy_data/O/O053.txt\n",
            "Attempting to load file: /content/gdrive/MyDrive/Bonn uni data/data/epilepsy_data/O/O054.txt\n",
            "Attempting to load file: /content/gdrive/MyDrive/Bonn uni data/data/epilepsy_data/O/O055.txt\n",
            "Attempting to load file: /content/gdrive/MyDrive/Bonn uni data/data/epilepsy_data/O/O056.txt\n",
            "Attempting to load file: /content/gdrive/MyDrive/Bonn uni data/data/epilepsy_data/O/O057.txt\n",
            "Attempting to load file: /content/gdrive/MyDrive/Bonn uni data/data/epilepsy_data/O/O058.txt\n",
            "Attempting to load file: /content/gdrive/MyDrive/Bonn uni data/data/epilepsy_data/O/O059.txt\n",
            "Attempting to load file: /content/gdrive/MyDrive/Bonn uni data/data/epilepsy_data/O/O060.txt\n",
            "Attempting to load file: /content/gdrive/MyDrive/Bonn uni data/data/epilepsy_data/O/O061.txt\n",
            "Attempting to load file: /content/gdrive/MyDrive/Bonn uni data/data/epilepsy_data/O/O062.txt\n",
            "Attempting to load file: /content/gdrive/MyDrive/Bonn uni data/data/epilepsy_data/O/O063.txt\n",
            "Attempting to load file: /content/gdrive/MyDrive/Bonn uni data/data/epilepsy_data/O/O064.txt\n",
            "Attempting to load file: /content/gdrive/MyDrive/Bonn uni data/data/epilepsy_data/O/O065.txt\n",
            "Attempting to load file: /content/gdrive/MyDrive/Bonn uni data/data/epilepsy_data/O/O066.txt\n",
            "Attempting to load file: /content/gdrive/MyDrive/Bonn uni data/data/epilepsy_data/O/O067.txt\n",
            "Attempting to load file: /content/gdrive/MyDrive/Bonn uni data/data/epilepsy_data/O/O068.txt\n",
            "Attempting to load file: /content/gdrive/MyDrive/Bonn uni data/data/epilepsy_data/O/O069.txt\n",
            "Attempting to load file: /content/gdrive/MyDrive/Bonn uni data/data/epilepsy_data/O/O070.txt\n",
            "Attempting to load file: /content/gdrive/MyDrive/Bonn uni data/data/epilepsy_data/O/O071.txt\n",
            "Attempting to load file: /content/gdrive/MyDrive/Bonn uni data/data/epilepsy_data/O/O072.txt\n",
            "Attempting to load file: /content/gdrive/MyDrive/Bonn uni data/data/epilepsy_data/O/O073.txt\n",
            "Attempting to load file: /content/gdrive/MyDrive/Bonn uni data/data/epilepsy_data/O/O074.txt\n",
            "Attempting to load file: /content/gdrive/MyDrive/Bonn uni data/data/epilepsy_data/O/O075.txt\n",
            "Attempting to load file: /content/gdrive/MyDrive/Bonn uni data/data/epilepsy_data/O/O076.txt\n",
            "Attempting to load file: /content/gdrive/MyDrive/Bonn uni data/data/epilepsy_data/O/O077.txt\n",
            "Attempting to load file: /content/gdrive/MyDrive/Bonn uni data/data/epilepsy_data/O/O078.txt\n",
            "Attempting to load file: /content/gdrive/MyDrive/Bonn uni data/data/epilepsy_data/O/O079.txt\n",
            "Attempting to load file: /content/gdrive/MyDrive/Bonn uni data/data/epilepsy_data/O/O080.txt\n",
            "Attempting to load file: /content/gdrive/MyDrive/Bonn uni data/data/epilepsy_data/O/O081.txt\n",
            "Attempting to load file: /content/gdrive/MyDrive/Bonn uni data/data/epilepsy_data/O/O082.txt\n",
            "Attempting to load file: /content/gdrive/MyDrive/Bonn uni data/data/epilepsy_data/O/O083.txt\n",
            "Attempting to load file: /content/gdrive/MyDrive/Bonn uni data/data/epilepsy_data/O/O084.txt\n",
            "Attempting to load file: /content/gdrive/MyDrive/Bonn uni data/data/epilepsy_data/O/O085.txt\n",
            "Attempting to load file: /content/gdrive/MyDrive/Bonn uni data/data/epilepsy_data/O/O086.txt\n",
            "Attempting to load file: /content/gdrive/MyDrive/Bonn uni data/data/epilepsy_data/O/O087.txt\n",
            "Attempting to load file: /content/gdrive/MyDrive/Bonn uni data/data/epilepsy_data/O/O088.txt\n",
            "Attempting to load file: /content/gdrive/MyDrive/Bonn uni data/data/epilepsy_data/O/O089.txt\n",
            "Attempting to load file: /content/gdrive/MyDrive/Bonn uni data/data/epilepsy_data/O/O090.txt\n",
            "Attempting to load file: /content/gdrive/MyDrive/Bonn uni data/data/epilepsy_data/O/O091.txt\n",
            "Attempting to load file: /content/gdrive/MyDrive/Bonn uni data/data/epilepsy_data/O/O092.txt\n",
            "Attempting to load file: /content/gdrive/MyDrive/Bonn uni data/data/epilepsy_data/O/O093.txt\n",
            "Attempting to load file: /content/gdrive/MyDrive/Bonn uni data/data/epilepsy_data/O/O094.txt\n",
            "Attempting to load file: /content/gdrive/MyDrive/Bonn uni data/data/epilepsy_data/O/O095.txt\n",
            "Attempting to load file: /content/gdrive/MyDrive/Bonn uni data/data/epilepsy_data/O/O096.txt\n",
            "Attempting to load file: /content/gdrive/MyDrive/Bonn uni data/data/epilepsy_data/O/O097.txt\n",
            "Attempting to load file: /content/gdrive/MyDrive/Bonn uni data/data/epilepsy_data/O/O098.txt\n",
            "Attempting to load file: /content/gdrive/MyDrive/Bonn uni data/data/epilepsy_data/O/O099.txt\n",
            "Attempting to load file: /content/gdrive/MyDrive/Bonn uni data/data/epilepsy_data/O/O100.txt\n",
            "Attempting to load file: /content/gdrive/MyDrive/Bonn uni data/data/epilepsy_data/Z/Z001.txt\n",
            "Attempting to load file: /content/gdrive/MyDrive/Bonn uni data/data/epilepsy_data/Z/Z002.txt\n",
            "Attempting to load file: /content/gdrive/MyDrive/Bonn uni data/data/epilepsy_data/Z/Z003.txt\n",
            "Attempting to load file: /content/gdrive/MyDrive/Bonn uni data/data/epilepsy_data/Z/Z004.txt\n",
            "Attempting to load file: /content/gdrive/MyDrive/Bonn uni data/data/epilepsy_data/Z/Z005.txt\n",
            "Attempting to load file: /content/gdrive/MyDrive/Bonn uni data/data/epilepsy_data/Z/Z006.txt\n",
            "Attempting to load file: /content/gdrive/MyDrive/Bonn uni data/data/epilepsy_data/Z/Z007.txt\n",
            "Attempting to load file: /content/gdrive/MyDrive/Bonn uni data/data/epilepsy_data/Z/Z008.txt\n",
            "Attempting to load file: /content/gdrive/MyDrive/Bonn uni data/data/epilepsy_data/Z/Z009.txt\n",
            "Attempting to load file: /content/gdrive/MyDrive/Bonn uni data/data/epilepsy_data/Z/Z010.txt\n",
            "Attempting to load file: /content/gdrive/MyDrive/Bonn uni data/data/epilepsy_data/Z/Z011.txt\n",
            "Attempting to load file: /content/gdrive/MyDrive/Bonn uni data/data/epilepsy_data/Z/Z012.txt\n",
            "Attempting to load file: /content/gdrive/MyDrive/Bonn uni data/data/epilepsy_data/Z/Z013.txt\n",
            "Attempting to load file: /content/gdrive/MyDrive/Bonn uni data/data/epilepsy_data/Z/Z014.txt\n",
            "Attempting to load file: /content/gdrive/MyDrive/Bonn uni data/data/epilepsy_data/Z/Z015.txt\n",
            "Attempting to load file: /content/gdrive/MyDrive/Bonn uni data/data/epilepsy_data/Z/Z016.txt\n",
            "Attempting to load file: /content/gdrive/MyDrive/Bonn uni data/data/epilepsy_data/Z/Z017.txt\n",
            "Attempting to load file: /content/gdrive/MyDrive/Bonn uni data/data/epilepsy_data/Z/Z018.txt\n",
            "Attempting to load file: /content/gdrive/MyDrive/Bonn uni data/data/epilepsy_data/Z/Z019.txt\n",
            "Attempting to load file: /content/gdrive/MyDrive/Bonn uni data/data/epilepsy_data/Z/Z020.txt\n",
            "Attempting to load file: /content/gdrive/MyDrive/Bonn uni data/data/epilepsy_data/Z/Z021.txt\n",
            "Attempting to load file: /content/gdrive/MyDrive/Bonn uni data/data/epilepsy_data/Z/Z022.txt\n",
            "Attempting to load file: /content/gdrive/MyDrive/Bonn uni data/data/epilepsy_data/Z/Z023.txt\n",
            "Attempting to load file: /content/gdrive/MyDrive/Bonn uni data/data/epilepsy_data/Z/Z024.txt\n",
            "Attempting to load file: /content/gdrive/MyDrive/Bonn uni data/data/epilepsy_data/Z/Z025.txt\n",
            "Attempting to load file: /content/gdrive/MyDrive/Bonn uni data/data/epilepsy_data/Z/Z026.txt\n",
            "Attempting to load file: /content/gdrive/MyDrive/Bonn uni data/data/epilepsy_data/Z/Z027.txt\n",
            "Attempting to load file: /content/gdrive/MyDrive/Bonn uni data/data/epilepsy_data/Z/Z028.txt\n",
            "Attempting to load file: /content/gdrive/MyDrive/Bonn uni data/data/epilepsy_data/Z/Z029.txt\n",
            "Attempting to load file: /content/gdrive/MyDrive/Bonn uni data/data/epilepsy_data/Z/Z030.txt\n",
            "Attempting to load file: /content/gdrive/MyDrive/Bonn uni data/data/epilepsy_data/Z/Z031.txt\n",
            "Attempting to load file: /content/gdrive/MyDrive/Bonn uni data/data/epilepsy_data/Z/Z032.txt\n",
            "Attempting to load file: /content/gdrive/MyDrive/Bonn uni data/data/epilepsy_data/Z/Z033.txt\n",
            "Attempting to load file: /content/gdrive/MyDrive/Bonn uni data/data/epilepsy_data/Z/Z034.txt\n",
            "Attempting to load file: /content/gdrive/MyDrive/Bonn uni data/data/epilepsy_data/Z/Z035.txt\n",
            "Attempting to load file: /content/gdrive/MyDrive/Bonn uni data/data/epilepsy_data/Z/Z036.txt\n",
            "Attempting to load file: /content/gdrive/MyDrive/Bonn uni data/data/epilepsy_data/Z/Z037.txt\n",
            "Attempting to load file: /content/gdrive/MyDrive/Bonn uni data/data/epilepsy_data/Z/Z038.txt\n",
            "Attempting to load file: /content/gdrive/MyDrive/Bonn uni data/data/epilepsy_data/Z/Z039.txt\n",
            "Attempting to load file: /content/gdrive/MyDrive/Bonn uni data/data/epilepsy_data/Z/Z040.txt\n",
            "Attempting to load file: /content/gdrive/MyDrive/Bonn uni data/data/epilepsy_data/Z/Z041.txt\n",
            "Attempting to load file: /content/gdrive/MyDrive/Bonn uni data/data/epilepsy_data/Z/Z042.txt\n",
            "Attempting to load file: /content/gdrive/MyDrive/Bonn uni data/data/epilepsy_data/Z/Z043.txt\n",
            "Attempting to load file: /content/gdrive/MyDrive/Bonn uni data/data/epilepsy_data/Z/Z044.txt\n",
            "Attempting to load file: /content/gdrive/MyDrive/Bonn uni data/data/epilepsy_data/Z/Z045.txt\n",
            "Attempting to load file: /content/gdrive/MyDrive/Bonn uni data/data/epilepsy_data/Z/Z046.txt\n",
            "Attempting to load file: /content/gdrive/MyDrive/Bonn uni data/data/epilepsy_data/Z/Z047.txt\n",
            "Attempting to load file: /content/gdrive/MyDrive/Bonn uni data/data/epilepsy_data/Z/Z048.txt\n",
            "Attempting to load file: /content/gdrive/MyDrive/Bonn uni data/data/epilepsy_data/Z/Z049.txt\n",
            "Attempting to load file: /content/gdrive/MyDrive/Bonn uni data/data/epilepsy_data/Z/Z050.txt\n",
            "Attempting to load file: /content/gdrive/MyDrive/Bonn uni data/data/epilepsy_data/Z/Z051.txt\n",
            "Attempting to load file: /content/gdrive/MyDrive/Bonn uni data/data/epilepsy_data/Z/Z052.txt\n",
            "Attempting to load file: /content/gdrive/MyDrive/Bonn uni data/data/epilepsy_data/Z/Z053.txt\n",
            "Attempting to load file: /content/gdrive/MyDrive/Bonn uni data/data/epilepsy_data/Z/Z054.txt\n",
            "Attempting to load file: /content/gdrive/MyDrive/Bonn uni data/data/epilepsy_data/Z/Z055.txt\n",
            "Attempting to load file: /content/gdrive/MyDrive/Bonn uni data/data/epilepsy_data/Z/Z056.txt\n",
            "Attempting to load file: /content/gdrive/MyDrive/Bonn uni data/data/epilepsy_data/Z/Z057.txt\n",
            "Attempting to load file: /content/gdrive/MyDrive/Bonn uni data/data/epilepsy_data/Z/Z058.txt\n",
            "Attempting to load file: /content/gdrive/MyDrive/Bonn uni data/data/epilepsy_data/Z/Z059.txt\n",
            "Attempting to load file: /content/gdrive/MyDrive/Bonn uni data/data/epilepsy_data/Z/Z060.txt\n",
            "Attempting to load file: /content/gdrive/MyDrive/Bonn uni data/data/epilepsy_data/Z/Z061.txt\n",
            "Attempting to load file: /content/gdrive/MyDrive/Bonn uni data/data/epilepsy_data/Z/Z062.txt\n",
            "Attempting to load file: /content/gdrive/MyDrive/Bonn uni data/data/epilepsy_data/Z/Z063.txt\n",
            "Attempting to load file: /content/gdrive/MyDrive/Bonn uni data/data/epilepsy_data/Z/Z064.txt\n",
            "Attempting to load file: /content/gdrive/MyDrive/Bonn uni data/data/epilepsy_data/Z/Z065.txt\n",
            "Attempting to load file: /content/gdrive/MyDrive/Bonn uni data/data/epilepsy_data/Z/Z066.txt\n",
            "Attempting to load file: /content/gdrive/MyDrive/Bonn uni data/data/epilepsy_data/Z/Z067.txt\n",
            "Attempting to load file: /content/gdrive/MyDrive/Bonn uni data/data/epilepsy_data/Z/Z068.txt\n",
            "Attempting to load file: /content/gdrive/MyDrive/Bonn uni data/data/epilepsy_data/Z/Z069.txt\n",
            "Attempting to load file: /content/gdrive/MyDrive/Bonn uni data/data/epilepsy_data/Z/Z070.txt\n",
            "Attempting to load file: /content/gdrive/MyDrive/Bonn uni data/data/epilepsy_data/Z/Z071.txt\n",
            "Attempting to load file: /content/gdrive/MyDrive/Bonn uni data/data/epilepsy_data/Z/Z072.txt\n",
            "Attempting to load file: /content/gdrive/MyDrive/Bonn uni data/data/epilepsy_data/Z/Z073.txt\n",
            "Attempting to load file: /content/gdrive/MyDrive/Bonn uni data/data/epilepsy_data/Z/Z074.txt\n",
            "Attempting to load file: /content/gdrive/MyDrive/Bonn uni data/data/epilepsy_data/Z/Z075.txt\n",
            "Attempting to load file: /content/gdrive/MyDrive/Bonn uni data/data/epilepsy_data/Z/Z076.txt\n",
            "Attempting to load file: /content/gdrive/MyDrive/Bonn uni data/data/epilepsy_data/Z/Z077.txt\n",
            "Attempting to load file: /content/gdrive/MyDrive/Bonn uni data/data/epilepsy_data/Z/Z078.txt\n",
            "Attempting to load file: /content/gdrive/MyDrive/Bonn uni data/data/epilepsy_data/Z/Z079.txt\n",
            "Attempting to load file: /content/gdrive/MyDrive/Bonn uni data/data/epilepsy_data/Z/Z080.txt\n",
            "Attempting to load file: /content/gdrive/MyDrive/Bonn uni data/data/epilepsy_data/Z/Z081.txt\n",
            "Attempting to load file: /content/gdrive/MyDrive/Bonn uni data/data/epilepsy_data/Z/Z082.txt\n",
            "Attempting to load file: /content/gdrive/MyDrive/Bonn uni data/data/epilepsy_data/Z/Z083.txt\n",
            "Attempting to load file: /content/gdrive/MyDrive/Bonn uni data/data/epilepsy_data/Z/Z084.txt\n",
            "Attempting to load file: /content/gdrive/MyDrive/Bonn uni data/data/epilepsy_data/Z/Z085.txt\n",
            "Attempting to load file: /content/gdrive/MyDrive/Bonn uni data/data/epilepsy_data/Z/Z086.txt\n",
            "Attempting to load file: /content/gdrive/MyDrive/Bonn uni data/data/epilepsy_data/Z/Z087.txt\n",
            "Attempting to load file: /content/gdrive/MyDrive/Bonn uni data/data/epilepsy_data/Z/Z088.txt\n",
            "Attempting to load file: /content/gdrive/MyDrive/Bonn uni data/data/epilepsy_data/Z/Z089.txt\n",
            "Attempting to load file: /content/gdrive/MyDrive/Bonn uni data/data/epilepsy_data/Z/Z090.txt\n",
            "Attempting to load file: /content/gdrive/MyDrive/Bonn uni data/data/epilepsy_data/Z/Z091.txt\n",
            "Attempting to load file: /content/gdrive/MyDrive/Bonn uni data/data/epilepsy_data/Z/Z092.txt\n",
            "Attempting to load file: /content/gdrive/MyDrive/Bonn uni data/data/epilepsy_data/Z/Z093.txt\n",
            "Attempting to load file: /content/gdrive/MyDrive/Bonn uni data/data/epilepsy_data/Z/Z094.txt\n",
            "Attempting to load file: /content/gdrive/MyDrive/Bonn uni data/data/epilepsy_data/Z/Z095.txt\n",
            "Attempting to load file: /content/gdrive/MyDrive/Bonn uni data/data/epilepsy_data/Z/Z096.txt\n",
            "Attempting to load file: /content/gdrive/MyDrive/Bonn uni data/data/epilepsy_data/Z/Z097.txt\n",
            "Attempting to load file: /content/gdrive/MyDrive/Bonn uni data/data/epilepsy_data/Z/Z098.txt\n",
            "Attempting to load file: /content/gdrive/MyDrive/Bonn uni data/data/epilepsy_data/Z/Z099.txt\n",
            "Attempting to load file: /content/gdrive/MyDrive/Bonn uni data/data/epilepsy_data/Z/Z100.txt\n",
            "Attempting to load file: /content/gdrive/MyDrive/Bonn uni data/data/epilepsy_data/S/S001.txt\n",
            "Attempting to load file: /content/gdrive/MyDrive/Bonn uni data/data/epilepsy_data/S/S002.txt\n",
            "Attempting to load file: /content/gdrive/MyDrive/Bonn uni data/data/epilepsy_data/S/S003.txt\n",
            "Attempting to load file: /content/gdrive/MyDrive/Bonn uni data/data/epilepsy_data/S/S004.txt\n",
            "Attempting to load file: /content/gdrive/MyDrive/Bonn uni data/data/epilepsy_data/S/S005.txt\n",
            "Attempting to load file: /content/gdrive/MyDrive/Bonn uni data/data/epilepsy_data/S/S006.txt\n",
            "Attempting to load file: /content/gdrive/MyDrive/Bonn uni data/data/epilepsy_data/S/S007.txt\n",
            "Attempting to load file: /content/gdrive/MyDrive/Bonn uni data/data/epilepsy_data/S/S008.txt\n",
            "Attempting to load file: /content/gdrive/MyDrive/Bonn uni data/data/epilepsy_data/S/S009.txt\n",
            "Attempting to load file: /content/gdrive/MyDrive/Bonn uni data/data/epilepsy_data/S/S010.txt\n",
            "Attempting to load file: /content/gdrive/MyDrive/Bonn uni data/data/epilepsy_data/S/S011.txt\n",
            "Attempting to load file: /content/gdrive/MyDrive/Bonn uni data/data/epilepsy_data/S/S012.txt\n",
            "Attempting to load file: /content/gdrive/MyDrive/Bonn uni data/data/epilepsy_data/S/S013.txt\n",
            "Attempting to load file: /content/gdrive/MyDrive/Bonn uni data/data/epilepsy_data/S/S014.txt\n",
            "Attempting to load file: /content/gdrive/MyDrive/Bonn uni data/data/epilepsy_data/S/S015.txt\n",
            "Attempting to load file: /content/gdrive/MyDrive/Bonn uni data/data/epilepsy_data/S/S016.txt\n",
            "Attempting to load file: /content/gdrive/MyDrive/Bonn uni data/data/epilepsy_data/S/S017.txt\n",
            "Attempting to load file: /content/gdrive/MyDrive/Bonn uni data/data/epilepsy_data/S/S018.txt\n",
            "Attempting to load file: /content/gdrive/MyDrive/Bonn uni data/data/epilepsy_data/S/S019.txt\n",
            "Attempting to load file: /content/gdrive/MyDrive/Bonn uni data/data/epilepsy_data/S/S020.txt\n",
            "Attempting to load file: /content/gdrive/MyDrive/Bonn uni data/data/epilepsy_data/S/S021.txt\n",
            "Attempting to load file: /content/gdrive/MyDrive/Bonn uni data/data/epilepsy_data/S/S022.txt\n",
            "Attempting to load file: /content/gdrive/MyDrive/Bonn uni data/data/epilepsy_data/S/S023.txt\n",
            "Attempting to load file: /content/gdrive/MyDrive/Bonn uni data/data/epilepsy_data/S/S024.txt\n",
            "Attempting to load file: /content/gdrive/MyDrive/Bonn uni data/data/epilepsy_data/S/S025.txt\n",
            "Attempting to load file: /content/gdrive/MyDrive/Bonn uni data/data/epilepsy_data/S/S026.txt\n",
            "Attempting to load file: /content/gdrive/MyDrive/Bonn uni data/data/epilepsy_data/S/S027.txt\n",
            "Attempting to load file: /content/gdrive/MyDrive/Bonn uni data/data/epilepsy_data/S/S028.txt\n",
            "Attempting to load file: /content/gdrive/MyDrive/Bonn uni data/data/epilepsy_data/S/S029.txt\n",
            "Attempting to load file: /content/gdrive/MyDrive/Bonn uni data/data/epilepsy_data/S/S030.txt\n",
            "Attempting to load file: /content/gdrive/MyDrive/Bonn uni data/data/epilepsy_data/S/S031.txt\n",
            "Attempting to load file: /content/gdrive/MyDrive/Bonn uni data/data/epilepsy_data/S/S032.txt\n",
            "Attempting to load file: /content/gdrive/MyDrive/Bonn uni data/data/epilepsy_data/S/S033.txt\n",
            "Attempting to load file: /content/gdrive/MyDrive/Bonn uni data/data/epilepsy_data/S/S034.txt\n",
            "Attempting to load file: /content/gdrive/MyDrive/Bonn uni data/data/epilepsy_data/S/S035.txt\n",
            "Attempting to load file: /content/gdrive/MyDrive/Bonn uni data/data/epilepsy_data/S/S036.txt\n",
            "Attempting to load file: /content/gdrive/MyDrive/Bonn uni data/data/epilepsy_data/S/S037.txt\n",
            "Attempting to load file: /content/gdrive/MyDrive/Bonn uni data/data/epilepsy_data/S/S038.txt\n",
            "Attempting to load file: /content/gdrive/MyDrive/Bonn uni data/data/epilepsy_data/S/S039.txt\n",
            "Attempting to load file: /content/gdrive/MyDrive/Bonn uni data/data/epilepsy_data/S/S040.txt\n",
            "Attempting to load file: /content/gdrive/MyDrive/Bonn uni data/data/epilepsy_data/S/S041.txt\n",
            "Attempting to load file: /content/gdrive/MyDrive/Bonn uni data/data/epilepsy_data/S/S042.txt\n",
            "Attempting to load file: /content/gdrive/MyDrive/Bonn uni data/data/epilepsy_data/S/S043.txt\n",
            "Attempting to load file: /content/gdrive/MyDrive/Bonn uni data/data/epilepsy_data/S/S044.txt\n",
            "Attempting to load file: /content/gdrive/MyDrive/Bonn uni data/data/epilepsy_data/S/S045.txt\n",
            "Attempting to load file: /content/gdrive/MyDrive/Bonn uni data/data/epilepsy_data/S/S046.txt\n",
            "Attempting to load file: /content/gdrive/MyDrive/Bonn uni data/data/epilepsy_data/S/S047.txt\n",
            "Attempting to load file: /content/gdrive/MyDrive/Bonn uni data/data/epilepsy_data/S/S048.txt\n",
            "Attempting to load file: /content/gdrive/MyDrive/Bonn uni data/data/epilepsy_data/S/S049.txt\n",
            "Attempting to load file: /content/gdrive/MyDrive/Bonn uni data/data/epilepsy_data/S/S050.txt\n",
            "Attempting to load file: /content/gdrive/MyDrive/Bonn uni data/data/epilepsy_data/S/S051.txt\n",
            "Attempting to load file: /content/gdrive/MyDrive/Bonn uni data/data/epilepsy_data/S/S052.txt\n",
            "Attempting to load file: /content/gdrive/MyDrive/Bonn uni data/data/epilepsy_data/S/S053.txt\n",
            "Attempting to load file: /content/gdrive/MyDrive/Bonn uni data/data/epilepsy_data/S/S054.txt\n",
            "Attempting to load file: /content/gdrive/MyDrive/Bonn uni data/data/epilepsy_data/S/S055.txt\n",
            "Attempting to load file: /content/gdrive/MyDrive/Bonn uni data/data/epilepsy_data/S/S056.txt\n",
            "Attempting to load file: /content/gdrive/MyDrive/Bonn uni data/data/epilepsy_data/S/S057.txt\n",
            "Attempting to load file: /content/gdrive/MyDrive/Bonn uni data/data/epilepsy_data/S/S058.txt\n",
            "Attempting to load file: /content/gdrive/MyDrive/Bonn uni data/data/epilepsy_data/S/S059.txt\n",
            "Attempting to load file: /content/gdrive/MyDrive/Bonn uni data/data/epilepsy_data/S/S060.txt\n",
            "Attempting to load file: /content/gdrive/MyDrive/Bonn uni data/data/epilepsy_data/S/S061.txt\n",
            "Attempting to load file: /content/gdrive/MyDrive/Bonn uni data/data/epilepsy_data/S/S062.txt\n",
            "Attempting to load file: /content/gdrive/MyDrive/Bonn uni data/data/epilepsy_data/S/S063.txt\n",
            "Attempting to load file: /content/gdrive/MyDrive/Bonn uni data/data/epilepsy_data/S/S064.txt\n",
            "Attempting to load file: /content/gdrive/MyDrive/Bonn uni data/data/epilepsy_data/S/S065.txt\n",
            "Attempting to load file: /content/gdrive/MyDrive/Bonn uni data/data/epilepsy_data/S/S066.txt\n",
            "Attempting to load file: /content/gdrive/MyDrive/Bonn uni data/data/epilepsy_data/S/S067.txt\n",
            "Attempting to load file: /content/gdrive/MyDrive/Bonn uni data/data/epilepsy_data/S/S068.txt\n",
            "Attempting to load file: /content/gdrive/MyDrive/Bonn uni data/data/epilepsy_data/S/S069.txt\n",
            "Attempting to load file: /content/gdrive/MyDrive/Bonn uni data/data/epilepsy_data/S/S070.txt\n",
            "Attempting to load file: /content/gdrive/MyDrive/Bonn uni data/data/epilepsy_data/S/S071.txt\n",
            "Attempting to load file: /content/gdrive/MyDrive/Bonn uni data/data/epilepsy_data/S/S072.txt\n",
            "Attempting to load file: /content/gdrive/MyDrive/Bonn uni data/data/epilepsy_data/S/S073.txt\n",
            "Attempting to load file: /content/gdrive/MyDrive/Bonn uni data/data/epilepsy_data/S/S074.txt\n",
            "Attempting to load file: /content/gdrive/MyDrive/Bonn uni data/data/epilepsy_data/S/S075.txt\n",
            "Attempting to load file: /content/gdrive/MyDrive/Bonn uni data/data/epilepsy_data/S/S076.txt\n",
            "Attempting to load file: /content/gdrive/MyDrive/Bonn uni data/data/epilepsy_data/S/S077.txt\n",
            "Attempting to load file: /content/gdrive/MyDrive/Bonn uni data/data/epilepsy_data/S/S078.txt\n",
            "Attempting to load file: /content/gdrive/MyDrive/Bonn uni data/data/epilepsy_data/S/S079.txt\n",
            "Attempting to load file: /content/gdrive/MyDrive/Bonn uni data/data/epilepsy_data/S/S080.txt\n",
            "Attempting to load file: /content/gdrive/MyDrive/Bonn uni data/data/epilepsy_data/S/S081.txt\n",
            "Attempting to load file: /content/gdrive/MyDrive/Bonn uni data/data/epilepsy_data/S/S082.txt\n",
            "Attempting to load file: /content/gdrive/MyDrive/Bonn uni data/data/epilepsy_data/S/S083.txt\n",
            "Attempting to load file: /content/gdrive/MyDrive/Bonn uni data/data/epilepsy_data/S/S084.txt\n",
            "Attempting to load file: /content/gdrive/MyDrive/Bonn uni data/data/epilepsy_data/S/S085.txt\n",
            "Attempting to load file: /content/gdrive/MyDrive/Bonn uni data/data/epilepsy_data/S/S086.txt\n",
            "Attempting to load file: /content/gdrive/MyDrive/Bonn uni data/data/epilepsy_data/S/S087.txt\n",
            "Attempting to load file: /content/gdrive/MyDrive/Bonn uni data/data/epilepsy_data/S/S088.txt\n",
            "Attempting to load file: /content/gdrive/MyDrive/Bonn uni data/data/epilepsy_data/S/S089.txt\n",
            "Attempting to load file: /content/gdrive/MyDrive/Bonn uni data/data/epilepsy_data/S/S090.txt\n",
            "Attempting to load file: /content/gdrive/MyDrive/Bonn uni data/data/epilepsy_data/S/S091.txt\n",
            "Attempting to load file: /content/gdrive/MyDrive/Bonn uni data/data/epilepsy_data/S/S092.txt\n",
            "Attempting to load file: /content/gdrive/MyDrive/Bonn uni data/data/epilepsy_data/S/S093.txt\n",
            "Attempting to load file: /content/gdrive/MyDrive/Bonn uni data/data/epilepsy_data/S/S094.txt\n",
            "Attempting to load file: /content/gdrive/MyDrive/Bonn uni data/data/epilepsy_data/S/S095.txt\n",
            "Attempting to load file: /content/gdrive/MyDrive/Bonn uni data/data/epilepsy_data/S/S096.txt\n",
            "Attempting to load file: /content/gdrive/MyDrive/Bonn uni data/data/epilepsy_data/S/S097.txt\n",
            "Attempting to load file: /content/gdrive/MyDrive/Bonn uni data/data/epilepsy_data/S/S098.txt\n",
            "Attempting to load file: /content/gdrive/MyDrive/Bonn uni data/data/epilepsy_data/S/S099.txt\n",
            "Attempting to load file: /content/gdrive/MyDrive/Bonn uni data/data/epilepsy_data/S/S100.txt\n"
          ]
        }
      ]
    },
    {
      "cell_type": "code",
      "source": [
        "# Check the shapes of the loaded arrays\n",
        "print(\"Shape of class_data_F:\", class_data_F.shape)\n",
        "print(\"Shape of class_data_N:\", class_data_N.shape)\n",
        "print(\"Shape of class_data_O:\", class_data_O.shape)\n",
        "print(\"Shape of class_data_Z:\", class_data_Z.shape)\n",
        "print(\"Shape of class_data_S:\", class_data_S.shape)"
      ],
      "metadata": {
        "colab": {
          "base_uri": "https://localhost:8080/"
        },
        "id": "QB-rZlYnYSPo",
        "outputId": "299be6d1-4c64-47d2-c22f-bb4761eafef0"
      },
      "execution_count": null,
      "outputs": [
        {
          "output_type": "stream",
          "name": "stdout",
          "text": [
            "Shape of class_data_F: (100, 4097)\n",
            "Shape of class_data_N: (100, 4097)\n",
            "Shape of class_data_O: (100, 4097)\n",
            "Shape of class_data_Z: (100, 4097)\n",
            "Shape of class_data_S: (100, 4097)\n"
          ]
        }
      ]
    },
    {
      "cell_type": "code",
      "source": [
        "X_epilepsy_data = np.vstack([class_data for class_data in [class_data_F,class_data_N,class_data_O,class_data_Z, class_data_S] if class_data.size > 0])"
      ],
      "metadata": {
        "id": "AK_Sd3mjYgGD"
      },
      "execution_count": null,
      "outputs": []
    },
    {
      "cell_type": "code",
      "source": [
        "print(\"Shape of concatenated X:\", X_epilepsy_data.shape)"
      ],
      "metadata": {
        "colab": {
          "base_uri": "https://localhost:8080/"
        },
        "id": "9cAVKn8UYq5n",
        "outputId": "bb075560-214e-49f9-c09e-bcf348ba22ad"
      },
      "execution_count": null,
      "outputs": [
        {
          "output_type": "stream",
          "name": "stdout",
          "text": [
            "Shape of concatenated X: (500, 4097)\n"
          ]
        }
      ]
    },
    {
      "cell_type": "code",
      "source": [
        "# Define labels for the dataset\n",
        "y = np.array([0] * len(class_data_F) +\n",
        "             [0] * len(class_data_N) +\n",
        "             [1] * len(class_data_O) +\n",
        "             [1] * len(class_data_Z) +\n",
        "             [2] * len(class_data_S)\n",
        "             )"
      ],
      "metadata": {
        "id": "MUX3wK_cYuK7"
      },
      "execution_count": null,
      "outputs": []
    },
    {
      "cell_type": "code",
      "source": [
        "y.shape"
      ],
      "metadata": {
        "colab": {
          "base_uri": "https://localhost:8080/"
        },
        "id": "aCA4-dOIZD1y",
        "outputId": "5e9d6d7b-f504-4da2-985b-f39895fe42cf"
      },
      "execution_count": null,
      "outputs": [
        {
          "output_type": "execute_result",
          "data": {
            "text/plain": [
              "(500,)"
            ]
          },
          "metadata": {},
          "execution_count": 12
        }
      ]
    },
    {
      "cell_type": "markdown",
      "source": [
        "#Data normalisation"
      ],
      "metadata": {
        "id": "GmBKz64zaeMk"
      }
    },
    {
      "cell_type": "code",
      "source": [
        "scaler = StandardScaler()\n",
        "X_epilepsy_data_normalized = scaler.fit_transform(X_epilepsy_data)"
      ],
      "metadata": {
        "id": "Mgx-Q4PCajGM"
      },
      "execution_count": null,
      "outputs": []
    },
    {
      "cell_type": "code",
      "source": [
        "X_epilepsy_data_normalized.shape"
      ],
      "metadata": {
        "colab": {
          "base_uri": "https://localhost:8080/"
        },
        "id": "YKqu4mu6aktb",
        "outputId": "190aca22-36e6-423e-adbc-f45957cf2d3e"
      },
      "execution_count": null,
      "outputs": [
        {
          "output_type": "execute_result",
          "data": {
            "text/plain": [
              "(500, 4097)"
            ]
          },
          "metadata": {},
          "execution_count": 14
        }
      ]
    },
    {
      "cell_type": "code",
      "source": [
        "# Replace `X_epilepsy_data_normalized` with your actual EEG data\n",
        "X = X_epilepsy_data_normalized  # Shape: (400, 4097)"
      ],
      "metadata": {
        "id": "Y9Aco61NapVd"
      },
      "execution_count": null,
      "outputs": []
    },
    {
      "cell_type": "code",
      "source": [
        "X_epilepsy_data_normalized.shape"
      ],
      "metadata": {
        "colab": {
          "base_uri": "https://localhost:8080/"
        },
        "id": "WDWMDTvPmdE1",
        "outputId": "58b753e3-2d69-4b95-ea42-19e22e4aacd3"
      },
      "execution_count": null,
      "outputs": [
        {
          "output_type": "execute_result",
          "data": {
            "text/plain": [
              "(500, 4097)"
            ]
          },
          "metadata": {},
          "execution_count": 16
        }
      ]
    },
    {
      "cell_type": "markdown",
      "source": [
        "#preprocessing for CWT and CAE"
      ],
      "metadata": {
        "id": "5sM9IcrhavSE"
      }
    },
    {
      "cell_type": "code",
      "source": [
        "def segment_signal(signal, window_size=1458, overlap=486):\n",
        "    step = window_size - overlap\n",
        "    segments = []\n",
        "    for start in range(0, len(signal) - window_size + 1, step):\n",
        "        segments.append(signal[start:start + window_size])\n",
        "    return np.array(segments)"
      ],
      "metadata": {
        "id": "ivuWeS1qa4X1"
      },
      "execution_count": null,
      "outputs": []
    },
    {
      "cell_type": "code",
      "source": [
        "window_size = 1458\n",
        "overlap = 486"
      ],
      "metadata": {
        "id": "VWsNfzr5a8Zv"
      },
      "execution_count": null,
      "outputs": []
    },
    {
      "cell_type": "code",
      "source": [
        "# Apply windowing to all signals\n",
        "X_windowed = []\n",
        "y_windowed = []\n",
        "for signal, label in zip(X, y):\n",
        "    signal_windows = segment_signal(signal, window_size, overlap)\n",
        "    X_windowed.extend(signal_windows)\n",
        "    y_windowed.extend([label] * len(signal_windows))  # Repeat the label for each window\n",
        "\n",
        "X_windowed = np.array(X_windowed)\n",
        "y_windowed = np.array(y_windowed)"
      ],
      "metadata": {
        "id": "7avD-C8Pa_ZI"
      },
      "execution_count": null,
      "outputs": []
    },
    {
      "cell_type": "code",
      "source": [
        "print('X_window shape is :', X_windowed.shape)\n",
        "print('y_window shape is :',y_windowed.shape)"
      ],
      "metadata": {
        "colab": {
          "base_uri": "https://localhost:8080/"
        },
        "id": "b12o-514bCJe",
        "outputId": "6ac0ec46-abce-41ad-9cc5-652b19409d90"
      },
      "execution_count": null,
      "outputs": [
        {
          "output_type": "stream",
          "name": "stdout",
          "text": [
            "X_window shape is : (1500, 1458)\n",
            "y_window shape is : (1500,)\n"
          ]
        }
      ]
    },
    {
      "cell_type": "markdown",
      "source": [
        "#compute cwt for each signal window"
      ],
      "metadata": {
        "id": "EyjQWz3lbH-Y"
      }
    },
    {
      "cell_type": "code",
      "source": [
        "!pip install PyWavelets"
      ],
      "metadata": {
        "colab": {
          "base_uri": "https://localhost:8080/"
        },
        "id": "rxcPZCOtbREF",
        "outputId": "194a04b7-a9f3-4bd4-b394-a5f85476b522"
      },
      "execution_count": null,
      "outputs": [
        {
          "output_type": "stream",
          "name": "stdout",
          "text": [
            "Collecting PyWavelets\n",
            "  Downloading pywavelets-1.8.0-cp310-cp310-manylinux_2_17_x86_64.manylinux2014_x86_64.whl.metadata (9.0 kB)\n",
            "Requirement already satisfied: numpy<3,>=1.23 in /usr/local/lib/python3.10/dist-packages (from PyWavelets) (1.26.4)\n",
            "Downloading pywavelets-1.8.0-cp310-cp310-manylinux_2_17_x86_64.manylinux2014_x86_64.whl (4.5 MB)\n",
            "\u001b[?25l   \u001b[90m━━━━━━━━━━━━━━━━━━━━━━━━━━━━━━━━━━━━━━━━\u001b[0m \u001b[32m0.0/4.5 MB\u001b[0m \u001b[31m?\u001b[0m eta \u001b[36m-:--:--\u001b[0m\r\u001b[2K   \u001b[91m━━━━━\u001b[0m\u001b[90m╺\u001b[0m\u001b[90m━━━━━━━━━━━━━━━━━━━━━━━━━━━━━━━━━━\u001b[0m \u001b[32m0.6/4.5 MB\u001b[0m \u001b[31m18.7 MB/s\u001b[0m eta \u001b[36m0:00:01\u001b[0m\r\u001b[2K   \u001b[91m━━━━━━━━━━━━━━━━━━━━━━━━━━━━━━━━━━━━━━━\u001b[0m\u001b[91m╸\u001b[0m \u001b[32m4.5/4.5 MB\u001b[0m \u001b[31m77.3 MB/s\u001b[0m eta \u001b[36m0:00:01\u001b[0m\r\u001b[2K   \u001b[90m━━━━━━━━━━━━━━━━━━━━━━━━━━━━━━━━━━━━━━━━\u001b[0m \u001b[32m4.5/4.5 MB\u001b[0m \u001b[31m56.3 MB/s\u001b[0m eta \u001b[36m0:00:00\u001b[0m\n",
            "\u001b[?25hInstalling collected packages: PyWavelets\n",
            "Successfully installed PyWavelets-1.8.0\n"
          ]
        }
      ]
    },
    {
      "cell_type": "code",
      "source": [
        "import pywt\n",
        "from skimage.transform import resize"
      ],
      "metadata": {
        "id": "If9XLrYwbSO1"
      },
      "execution_count": null,
      "outputs": []
    },
    {
      "cell_type": "code",
      "source": [
        "def compute_cwt(window, scales=np.arange(1, 128), wavelet='cmor1.5-1.0'):\n",
        "    coeffs, _ = pywt.cwt(window, scales, wavelet)\n",
        "    coeffs = np.abs(coeffs)  # Magnitude of coefficients\n",
        "    resized_coeffs = resize(coeffs, (256, 256), mode='constant')  # Resize to (256, 256)\n",
        "    return resized_coeffs"
      ],
      "metadata": {
        "id": "P6BrwIgNbWb6"
      },
      "execution_count": null,
      "outputs": []
    },
    {
      "cell_type": "code",
      "source": [
        "# Apply CWT to all windows\n",
        "cwt_images = np.array([compute_cwt(window) for window in X_windowed])"
      ],
      "metadata": {
        "id": "xUoF8Bf1baCM"
      },
      "execution_count": null,
      "outputs": []
    },
    {
      "cell_type": "code",
      "source": [
        "print( 'the shape of cwt_images is :',cwt_images.shape)"
      ],
      "metadata": {
        "colab": {
          "base_uri": "https://localhost:8080/"
        },
        "id": "o84Cu_Hbbdtl",
        "outputId": "efa7d531-7cb9-4331-a1a6-b9bbdb2d2f9c"
      },
      "execution_count": null,
      "outputs": [
        {
          "output_type": "stream",
          "name": "stdout",
          "text": [
            "the shape of cwt_images is : (1500, 256, 256)\n"
          ]
        }
      ]
    },
    {
      "cell_type": "code",
      "source": [
        "cwt_images = cwt_images[..., np.newaxis]  # Add channel dimension"
      ],
      "metadata": {
        "id": "Hi0xoZjVbgzq"
      },
      "execution_count": null,
      "outputs": []
    },
    {
      "cell_type": "code",
      "source": [
        "print( 'the shape of cwt_images is :',cwt_images.shape)"
      ],
      "metadata": {
        "colab": {
          "base_uri": "https://localhost:8080/"
        },
        "id": "1TPMt7b1bj5N",
        "outputId": "f0897eed-c277-43da-ea4b-5a3bc09753ae"
      },
      "execution_count": null,
      "outputs": [
        {
          "output_type": "stream",
          "name": "stdout",
          "text": [
            "the shape of cwt_images is : (1500, 256, 256, 1)\n"
          ]
        }
      ]
    },
    {
      "cell_type": "markdown",
      "source": [
        "#CAE"
      ],
      "metadata": {
        "id": "g50qhExrboY_"
      }
    },
    {
      "cell_type": "code",
      "source": [
        "from tensorflow.keras.models import Model\n",
        "from tensorflow.keras.layers import Input, Conv2D, Conv2DTranspose, Dense, Flatten, Reshape"
      ],
      "metadata": {
        "id": "Hs2I6Puybp42"
      },
      "execution_count": null,
      "outputs": []
    },
    {
      "cell_type": "code",
      "source": [
        "def build_cae(input_shape=(256, 256, 1)):\n",
        "    input_layer = Input(shape=input_shape)\n",
        "\n",
        "    # Encoder\n",
        "    x = Conv2D(16, (3, 3), strides=(2, 2), activation='relu', padding='same')(input_layer)\n",
        "    x = Conv2D(32, (3, 3), strides=(2, 2), activation='relu', padding='same')(x)\n",
        "    x = Conv2D(64, (3, 3), strides=(2, 2), activation='relu', padding='same')(x)\n",
        "    x = Conv2D(128, (3, 3), strides=(2, 2), activation='relu', padding='same')(x)\n",
        "    x = Conv2D(255, (3, 3), strides=(2, 2), activation='relu', padding='same')(x)\n",
        "\n",
        "    latent_space = Flatten(name='flatten_layer')(x)\n",
        "    latent_space = Dense(128, activation='relu',name='latent_dense')(latent_space)\n",
        "\n",
        "    # Decoder\n",
        "    x = Dense(8 * 8 * 255, activation='relu',name='dec_dense')(latent_space)\n",
        "    x = Reshape((8, 8, 255), name='dec_reshape')(x)\n",
        "    x = Conv2DTranspose(128, (3, 3), strides=(2, 2), activation='relu', padding='same')(x)\n",
        "    x = Conv2DTranspose(64, (3, 3), strides=(2, 2), activation='relu', padding='same')(x)\n",
        "    x = Conv2DTranspose(32, (3, 3), strides=(2, 2), activation='relu', padding='same')(x)\n",
        "    x = Conv2DTranspose(16, (3, 3), strides=(2, 2), activation='relu', padding='same')(x)\n",
        "    output_layer = Conv2DTranspose(1, (3, 3),strides=(2, 2), activation='sigmoid', padding='same',name='dec_conv5')(x)\n",
        "\n",
        "    cae = Model(input_layer, output_layer,name='CAE')\n",
        "    encoder = Model(input_layer, latent_space,name='encoder')\n",
        "    return cae, encoder"
      ],
      "metadata": {
        "id": "B7dVtTyXbsjc"
      },
      "execution_count": null,
      "outputs": []
    },
    {
      "cell_type": "code",
      "source": [
        "cae, encoder = build_cae()"
      ],
      "metadata": {
        "id": "x7soVQN6b1h9"
      },
      "execution_count": null,
      "outputs": []
    },
    {
      "cell_type": "code",
      "source": [
        "cae.compile(optimizer='adam', loss='mse')"
      ],
      "metadata": {
        "id": "MGaA3TQabz2N"
      },
      "execution_count": null,
      "outputs": []
    },
    {
      "cell_type": "code",
      "source": [
        "cae.summary()"
      ],
      "metadata": {
        "colab": {
          "base_uri": "https://localhost:8080/",
          "height": 638
        },
        "id": "jaCmD98rb0dt",
        "outputId": "551dcfa5-07a8-440e-fe4d-06eda99ebf3f"
      },
      "execution_count": null,
      "outputs": [
        {
          "output_type": "display_data",
          "data": {
            "text/plain": [
              "\u001b[1mModel: \"CAE\"\u001b[0m\n"
            ],
            "text/html": [
              "<pre style=\"white-space:pre;overflow-x:auto;line-height:normal;font-family:Menlo,'DejaVu Sans Mono',consolas,'Courier New',monospace\"><span style=\"font-weight: bold\">Model: \"CAE\"</span>\n",
              "</pre>\n"
            ]
          },
          "metadata": {}
        },
        {
          "output_type": "display_data",
          "data": {
            "text/plain": [
              "┏━━━━━━━━━━━━━━━━━━━━━━━━━━━━━━━━━━━━━━┳━━━━━━━━━━━━━━━━━━━━━━━━━━━━━┳━━━━━━━━━━━━━━━━━┓\n",
              "┃\u001b[1m \u001b[0m\u001b[1mLayer (type)                        \u001b[0m\u001b[1m \u001b[0m┃\u001b[1m \u001b[0m\u001b[1mOutput Shape               \u001b[0m\u001b[1m \u001b[0m┃\u001b[1m \u001b[0m\u001b[1m        Param #\u001b[0m\u001b[1m \u001b[0m┃\n",
              "┡━━━━━━━━━━━━━━━━━━━━━━━━━━━━━━━━━━━━━━╇━━━━━━━━━━━━━━━━━━━━━━━━━━━━━╇━━━━━━━━━━━━━━━━━┩\n",
              "│ input_layer (\u001b[38;5;33mInputLayer\u001b[0m)             │ (\u001b[38;5;45mNone\u001b[0m, \u001b[38;5;34m256\u001b[0m, \u001b[38;5;34m256\u001b[0m, \u001b[38;5;34m1\u001b[0m)         │               \u001b[38;5;34m0\u001b[0m │\n",
              "├──────────────────────────────────────┼─────────────────────────────┼─────────────────┤\n",
              "│ conv2d (\u001b[38;5;33mConv2D\u001b[0m)                      │ (\u001b[38;5;45mNone\u001b[0m, \u001b[38;5;34m128\u001b[0m, \u001b[38;5;34m128\u001b[0m, \u001b[38;5;34m16\u001b[0m)        │             \u001b[38;5;34m160\u001b[0m │\n",
              "├──────────────────────────────────────┼─────────────────────────────┼─────────────────┤\n",
              "│ conv2d_1 (\u001b[38;5;33mConv2D\u001b[0m)                    │ (\u001b[38;5;45mNone\u001b[0m, \u001b[38;5;34m64\u001b[0m, \u001b[38;5;34m64\u001b[0m, \u001b[38;5;34m32\u001b[0m)          │           \u001b[38;5;34m4,640\u001b[0m │\n",
              "├──────────────────────────────────────┼─────────────────────────────┼─────────────────┤\n",
              "│ conv2d_2 (\u001b[38;5;33mConv2D\u001b[0m)                    │ (\u001b[38;5;45mNone\u001b[0m, \u001b[38;5;34m32\u001b[0m, \u001b[38;5;34m32\u001b[0m, \u001b[38;5;34m64\u001b[0m)          │          \u001b[38;5;34m18,496\u001b[0m │\n",
              "├──────────────────────────────────────┼─────────────────────────────┼─────────────────┤\n",
              "│ conv2d_3 (\u001b[38;5;33mConv2D\u001b[0m)                    │ (\u001b[38;5;45mNone\u001b[0m, \u001b[38;5;34m16\u001b[0m, \u001b[38;5;34m16\u001b[0m, \u001b[38;5;34m128\u001b[0m)         │          \u001b[38;5;34m73,856\u001b[0m │\n",
              "├──────────────────────────────────────┼─────────────────────────────┼─────────────────┤\n",
              "│ conv2d_4 (\u001b[38;5;33mConv2D\u001b[0m)                    │ (\u001b[38;5;45mNone\u001b[0m, \u001b[38;5;34m8\u001b[0m, \u001b[38;5;34m8\u001b[0m, \u001b[38;5;34m255\u001b[0m)           │         \u001b[38;5;34m294,015\u001b[0m │\n",
              "├──────────────────────────────────────┼─────────────────────────────┼─────────────────┤\n",
              "│ flatten_layer (\u001b[38;5;33mFlatten\u001b[0m)              │ (\u001b[38;5;45mNone\u001b[0m, \u001b[38;5;34m16320\u001b[0m)               │               \u001b[38;5;34m0\u001b[0m │\n",
              "├──────────────────────────────────────┼─────────────────────────────┼─────────────────┤\n",
              "│ latent_dense (\u001b[38;5;33mDense\u001b[0m)                 │ (\u001b[38;5;45mNone\u001b[0m, \u001b[38;5;34m128\u001b[0m)                 │       \u001b[38;5;34m2,089,088\u001b[0m │\n",
              "├──────────────────────────────────────┼─────────────────────────────┼─────────────────┤\n",
              "│ dec_dense (\u001b[38;5;33mDense\u001b[0m)                    │ (\u001b[38;5;45mNone\u001b[0m, \u001b[38;5;34m16320\u001b[0m)               │       \u001b[38;5;34m2,105,280\u001b[0m │\n",
              "├──────────────────────────────────────┼─────────────────────────────┼─────────────────┤\n",
              "│ dec_reshape (\u001b[38;5;33mReshape\u001b[0m)                │ (\u001b[38;5;45mNone\u001b[0m, \u001b[38;5;34m8\u001b[0m, \u001b[38;5;34m8\u001b[0m, \u001b[38;5;34m255\u001b[0m)           │               \u001b[38;5;34m0\u001b[0m │\n",
              "├──────────────────────────────────────┼─────────────────────────────┼─────────────────┤\n",
              "│ conv2d_transpose (\u001b[38;5;33mConv2DTranspose\u001b[0m)   │ (\u001b[38;5;45mNone\u001b[0m, \u001b[38;5;34m16\u001b[0m, \u001b[38;5;34m16\u001b[0m, \u001b[38;5;34m128\u001b[0m)         │         \u001b[38;5;34m293,888\u001b[0m │\n",
              "├──────────────────────────────────────┼─────────────────────────────┼─────────────────┤\n",
              "│ conv2d_transpose_1 (\u001b[38;5;33mConv2DTranspose\u001b[0m) │ (\u001b[38;5;45mNone\u001b[0m, \u001b[38;5;34m32\u001b[0m, \u001b[38;5;34m32\u001b[0m, \u001b[38;5;34m64\u001b[0m)          │          \u001b[38;5;34m73,792\u001b[0m │\n",
              "├──────────────────────────────────────┼─────────────────────────────┼─────────────────┤\n",
              "│ conv2d_transpose_2 (\u001b[38;5;33mConv2DTranspose\u001b[0m) │ (\u001b[38;5;45mNone\u001b[0m, \u001b[38;5;34m64\u001b[0m, \u001b[38;5;34m64\u001b[0m, \u001b[38;5;34m32\u001b[0m)          │          \u001b[38;5;34m18,464\u001b[0m │\n",
              "├──────────────────────────────────────┼─────────────────────────────┼─────────────────┤\n",
              "│ conv2d_transpose_3 (\u001b[38;5;33mConv2DTranspose\u001b[0m) │ (\u001b[38;5;45mNone\u001b[0m, \u001b[38;5;34m128\u001b[0m, \u001b[38;5;34m128\u001b[0m, \u001b[38;5;34m16\u001b[0m)        │           \u001b[38;5;34m4,624\u001b[0m │\n",
              "├──────────────────────────────────────┼─────────────────────────────┼─────────────────┤\n",
              "│ dec_conv5 (\u001b[38;5;33mConv2DTranspose\u001b[0m)          │ (\u001b[38;5;45mNone\u001b[0m, \u001b[38;5;34m256\u001b[0m, \u001b[38;5;34m256\u001b[0m, \u001b[38;5;34m1\u001b[0m)         │             \u001b[38;5;34m145\u001b[0m │\n",
              "└──────────────────────────────────────┴─────────────────────────────┴─────────────────┘\n"
            ],
            "text/html": [
              "<pre style=\"white-space:pre;overflow-x:auto;line-height:normal;font-family:Menlo,'DejaVu Sans Mono',consolas,'Courier New',monospace\">┏━━━━━━━━━━━━━━━━━━━━━━━━━━━━━━━━━━━━━━┳━━━━━━━━━━━━━━━━━━━━━━━━━━━━━┳━━━━━━━━━━━━━━━━━┓\n",
              "┃<span style=\"font-weight: bold\"> Layer (type)                         </span>┃<span style=\"font-weight: bold\"> Output Shape                </span>┃<span style=\"font-weight: bold\">         Param # </span>┃\n",
              "┡━━━━━━━━━━━━━━━━━━━━━━━━━━━━━━━━━━━━━━╇━━━━━━━━━━━━━━━━━━━━━━━━━━━━━╇━━━━━━━━━━━━━━━━━┩\n",
              "│ input_layer (<span style=\"color: #0087ff; text-decoration-color: #0087ff\">InputLayer</span>)             │ (<span style=\"color: #00d7ff; text-decoration-color: #00d7ff\">None</span>, <span style=\"color: #00af00; text-decoration-color: #00af00\">256</span>, <span style=\"color: #00af00; text-decoration-color: #00af00\">256</span>, <span style=\"color: #00af00; text-decoration-color: #00af00\">1</span>)         │               <span style=\"color: #00af00; text-decoration-color: #00af00\">0</span> │\n",
              "├──────────────────────────────────────┼─────────────────────────────┼─────────────────┤\n",
              "│ conv2d (<span style=\"color: #0087ff; text-decoration-color: #0087ff\">Conv2D</span>)                      │ (<span style=\"color: #00d7ff; text-decoration-color: #00d7ff\">None</span>, <span style=\"color: #00af00; text-decoration-color: #00af00\">128</span>, <span style=\"color: #00af00; text-decoration-color: #00af00\">128</span>, <span style=\"color: #00af00; text-decoration-color: #00af00\">16</span>)        │             <span style=\"color: #00af00; text-decoration-color: #00af00\">160</span> │\n",
              "├──────────────────────────────────────┼─────────────────────────────┼─────────────────┤\n",
              "│ conv2d_1 (<span style=\"color: #0087ff; text-decoration-color: #0087ff\">Conv2D</span>)                    │ (<span style=\"color: #00d7ff; text-decoration-color: #00d7ff\">None</span>, <span style=\"color: #00af00; text-decoration-color: #00af00\">64</span>, <span style=\"color: #00af00; text-decoration-color: #00af00\">64</span>, <span style=\"color: #00af00; text-decoration-color: #00af00\">32</span>)          │           <span style=\"color: #00af00; text-decoration-color: #00af00\">4,640</span> │\n",
              "├──────────────────────────────────────┼─────────────────────────────┼─────────────────┤\n",
              "│ conv2d_2 (<span style=\"color: #0087ff; text-decoration-color: #0087ff\">Conv2D</span>)                    │ (<span style=\"color: #00d7ff; text-decoration-color: #00d7ff\">None</span>, <span style=\"color: #00af00; text-decoration-color: #00af00\">32</span>, <span style=\"color: #00af00; text-decoration-color: #00af00\">32</span>, <span style=\"color: #00af00; text-decoration-color: #00af00\">64</span>)          │          <span style=\"color: #00af00; text-decoration-color: #00af00\">18,496</span> │\n",
              "├──────────────────────────────────────┼─────────────────────────────┼─────────────────┤\n",
              "│ conv2d_3 (<span style=\"color: #0087ff; text-decoration-color: #0087ff\">Conv2D</span>)                    │ (<span style=\"color: #00d7ff; text-decoration-color: #00d7ff\">None</span>, <span style=\"color: #00af00; text-decoration-color: #00af00\">16</span>, <span style=\"color: #00af00; text-decoration-color: #00af00\">16</span>, <span style=\"color: #00af00; text-decoration-color: #00af00\">128</span>)         │          <span style=\"color: #00af00; text-decoration-color: #00af00\">73,856</span> │\n",
              "├──────────────────────────────────────┼─────────────────────────────┼─────────────────┤\n",
              "│ conv2d_4 (<span style=\"color: #0087ff; text-decoration-color: #0087ff\">Conv2D</span>)                    │ (<span style=\"color: #00d7ff; text-decoration-color: #00d7ff\">None</span>, <span style=\"color: #00af00; text-decoration-color: #00af00\">8</span>, <span style=\"color: #00af00; text-decoration-color: #00af00\">8</span>, <span style=\"color: #00af00; text-decoration-color: #00af00\">255</span>)           │         <span style=\"color: #00af00; text-decoration-color: #00af00\">294,015</span> │\n",
              "├──────────────────────────────────────┼─────────────────────────────┼─────────────────┤\n",
              "│ flatten_layer (<span style=\"color: #0087ff; text-decoration-color: #0087ff\">Flatten</span>)              │ (<span style=\"color: #00d7ff; text-decoration-color: #00d7ff\">None</span>, <span style=\"color: #00af00; text-decoration-color: #00af00\">16320</span>)               │               <span style=\"color: #00af00; text-decoration-color: #00af00\">0</span> │\n",
              "├──────────────────────────────────────┼─────────────────────────────┼─────────────────┤\n",
              "│ latent_dense (<span style=\"color: #0087ff; text-decoration-color: #0087ff\">Dense</span>)                 │ (<span style=\"color: #00d7ff; text-decoration-color: #00d7ff\">None</span>, <span style=\"color: #00af00; text-decoration-color: #00af00\">128</span>)                 │       <span style=\"color: #00af00; text-decoration-color: #00af00\">2,089,088</span> │\n",
              "├──────────────────────────────────────┼─────────────────────────────┼─────────────────┤\n",
              "│ dec_dense (<span style=\"color: #0087ff; text-decoration-color: #0087ff\">Dense</span>)                    │ (<span style=\"color: #00d7ff; text-decoration-color: #00d7ff\">None</span>, <span style=\"color: #00af00; text-decoration-color: #00af00\">16320</span>)               │       <span style=\"color: #00af00; text-decoration-color: #00af00\">2,105,280</span> │\n",
              "├──────────────────────────────────────┼─────────────────────────────┼─────────────────┤\n",
              "│ dec_reshape (<span style=\"color: #0087ff; text-decoration-color: #0087ff\">Reshape</span>)                │ (<span style=\"color: #00d7ff; text-decoration-color: #00d7ff\">None</span>, <span style=\"color: #00af00; text-decoration-color: #00af00\">8</span>, <span style=\"color: #00af00; text-decoration-color: #00af00\">8</span>, <span style=\"color: #00af00; text-decoration-color: #00af00\">255</span>)           │               <span style=\"color: #00af00; text-decoration-color: #00af00\">0</span> │\n",
              "├──────────────────────────────────────┼─────────────────────────────┼─────────────────┤\n",
              "│ conv2d_transpose (<span style=\"color: #0087ff; text-decoration-color: #0087ff\">Conv2DTranspose</span>)   │ (<span style=\"color: #00d7ff; text-decoration-color: #00d7ff\">None</span>, <span style=\"color: #00af00; text-decoration-color: #00af00\">16</span>, <span style=\"color: #00af00; text-decoration-color: #00af00\">16</span>, <span style=\"color: #00af00; text-decoration-color: #00af00\">128</span>)         │         <span style=\"color: #00af00; text-decoration-color: #00af00\">293,888</span> │\n",
              "├──────────────────────────────────────┼─────────────────────────────┼─────────────────┤\n",
              "│ conv2d_transpose_1 (<span style=\"color: #0087ff; text-decoration-color: #0087ff\">Conv2DTranspose</span>) │ (<span style=\"color: #00d7ff; text-decoration-color: #00d7ff\">None</span>, <span style=\"color: #00af00; text-decoration-color: #00af00\">32</span>, <span style=\"color: #00af00; text-decoration-color: #00af00\">32</span>, <span style=\"color: #00af00; text-decoration-color: #00af00\">64</span>)          │          <span style=\"color: #00af00; text-decoration-color: #00af00\">73,792</span> │\n",
              "├──────────────────────────────────────┼─────────────────────────────┼─────────────────┤\n",
              "│ conv2d_transpose_2 (<span style=\"color: #0087ff; text-decoration-color: #0087ff\">Conv2DTranspose</span>) │ (<span style=\"color: #00d7ff; text-decoration-color: #00d7ff\">None</span>, <span style=\"color: #00af00; text-decoration-color: #00af00\">64</span>, <span style=\"color: #00af00; text-decoration-color: #00af00\">64</span>, <span style=\"color: #00af00; text-decoration-color: #00af00\">32</span>)          │          <span style=\"color: #00af00; text-decoration-color: #00af00\">18,464</span> │\n",
              "├──────────────────────────────────────┼─────────────────────────────┼─────────────────┤\n",
              "│ conv2d_transpose_3 (<span style=\"color: #0087ff; text-decoration-color: #0087ff\">Conv2DTranspose</span>) │ (<span style=\"color: #00d7ff; text-decoration-color: #00d7ff\">None</span>, <span style=\"color: #00af00; text-decoration-color: #00af00\">128</span>, <span style=\"color: #00af00; text-decoration-color: #00af00\">128</span>, <span style=\"color: #00af00; text-decoration-color: #00af00\">16</span>)        │           <span style=\"color: #00af00; text-decoration-color: #00af00\">4,624</span> │\n",
              "├──────────────────────────────────────┼─────────────────────────────┼─────────────────┤\n",
              "│ dec_conv5 (<span style=\"color: #0087ff; text-decoration-color: #0087ff\">Conv2DTranspose</span>)          │ (<span style=\"color: #00d7ff; text-decoration-color: #00d7ff\">None</span>, <span style=\"color: #00af00; text-decoration-color: #00af00\">256</span>, <span style=\"color: #00af00; text-decoration-color: #00af00\">256</span>, <span style=\"color: #00af00; text-decoration-color: #00af00\">1</span>)         │             <span style=\"color: #00af00; text-decoration-color: #00af00\">145</span> │\n",
              "└──────────────────────────────────────┴─────────────────────────────┴─────────────────┘\n",
              "</pre>\n"
            ]
          },
          "metadata": {}
        },
        {
          "output_type": "display_data",
          "data": {
            "text/plain": [
              "\u001b[1m Total params: \u001b[0m\u001b[38;5;34m4,976,448\u001b[0m (18.98 MB)\n"
            ],
            "text/html": [
              "<pre style=\"white-space:pre;overflow-x:auto;line-height:normal;font-family:Menlo,'DejaVu Sans Mono',consolas,'Courier New',monospace\"><span style=\"font-weight: bold\"> Total params: </span><span style=\"color: #00af00; text-decoration-color: #00af00\">4,976,448</span> (18.98 MB)\n",
              "</pre>\n"
            ]
          },
          "metadata": {}
        },
        {
          "output_type": "display_data",
          "data": {
            "text/plain": [
              "\u001b[1m Trainable params: \u001b[0m\u001b[38;5;34m4,976,448\u001b[0m (18.98 MB)\n"
            ],
            "text/html": [
              "<pre style=\"white-space:pre;overflow-x:auto;line-height:normal;font-family:Menlo,'DejaVu Sans Mono',consolas,'Courier New',monospace\"><span style=\"font-weight: bold\"> Trainable params: </span><span style=\"color: #00af00; text-decoration-color: #00af00\">4,976,448</span> (18.98 MB)\n",
              "</pre>\n"
            ]
          },
          "metadata": {}
        },
        {
          "output_type": "display_data",
          "data": {
            "text/plain": [
              "\u001b[1m Non-trainable params: \u001b[0m\u001b[38;5;34m0\u001b[0m (0.00 B)\n"
            ],
            "text/html": [
              "<pre style=\"white-space:pre;overflow-x:auto;line-height:normal;font-family:Menlo,'DejaVu Sans Mono',consolas,'Courier New',monospace\"><span style=\"font-weight: bold\"> Non-trainable params: </span><span style=\"color: #00af00; text-decoration-color: #00af00\">0</span> (0.00 B)\n",
              "</pre>\n"
            ]
          },
          "metadata": {}
        }
      ]
    },
    {
      "cell_type": "code",
      "source": [
        "# Normalize the input data\n",
        "cwt_images = cwt_images / np.max(cwt_images)"
      ],
      "metadata": {
        "id": "jqQdqoIFcAfU"
      },
      "execution_count": null,
      "outputs": []
    },
    {
      "cell_type": "code",
      "source": [
        "history_cae=cae.fit(cwt_images, cwt_images, epochs=50, batch_size=32, validation_split=0.2)"
      ],
      "metadata": {
        "colab": {
          "base_uri": "https://localhost:8080/"
        },
        "id": "XGzr-cVicBkI",
        "outputId": "463456a3-bf55-4e90-86fd-955eb05c0bfe"
      },
      "execution_count": null,
      "outputs": [
        {
          "output_type": "stream",
          "name": "stdout",
          "text": [
            "Epoch 1/50\n",
            "\u001b[1m38/38\u001b[0m \u001b[32m━━━━━━━━━━━━━━━━━━━━\u001b[0m\u001b[37m\u001b[0m \u001b[1m18s\u001b[0m 204ms/step - loss: 0.2148 - val_loss: 0.0220\n",
            "Epoch 2/50\n",
            "\u001b[1m38/38\u001b[0m \u001b[32m━━━━━━━━━━━━━━━━━━━━\u001b[0m\u001b[37m\u001b[0m \u001b[1m2s\u001b[0m 39ms/step - loss: 0.0016 - val_loss: 0.0217\n",
            "Epoch 3/50\n",
            "\u001b[1m38/38\u001b[0m \u001b[32m━━━━━━━━━━━━━━━━━━━━\u001b[0m\u001b[37m\u001b[0m \u001b[1m1s\u001b[0m 32ms/step - loss: 0.0014 - val_loss: 0.0217\n",
            "Epoch 4/50\n",
            "\u001b[1m38/38\u001b[0m \u001b[32m━━━━━━━━━━━━━━━━━━━━\u001b[0m\u001b[37m\u001b[0m \u001b[1m1s\u001b[0m 31ms/step - loss: 0.0012 - val_loss: 0.0217\n",
            "Epoch 5/50\n",
            "\u001b[1m38/38\u001b[0m \u001b[32m━━━━━━━━━━━━━━━━━━━━\u001b[0m\u001b[37m\u001b[0m \u001b[1m1s\u001b[0m 36ms/step - loss: 0.0013 - val_loss: 0.0217\n",
            "Epoch 6/50\n",
            "\u001b[1m38/38\u001b[0m \u001b[32m━━━━━━━━━━━━━━━━━━━━\u001b[0m\u001b[37m\u001b[0m \u001b[1m2s\u001b[0m 37ms/step - loss: 0.0011 - val_loss: 0.0217\n",
            "Epoch 7/50\n",
            "\u001b[1m38/38\u001b[0m \u001b[32m━━━━━━━━━━━━━━━━━━━━\u001b[0m\u001b[37m\u001b[0m \u001b[1m1s\u001b[0m 32ms/step - loss: 0.0015 - val_loss: 0.0217\n",
            "Epoch 8/50\n",
            "\u001b[1m38/38\u001b[0m \u001b[32m━━━━━━━━━━━━━━━━━━━━\u001b[0m\u001b[37m\u001b[0m \u001b[1m1s\u001b[0m 30ms/step - loss: 0.0012 - val_loss: 0.0217\n",
            "Epoch 9/50\n",
            "\u001b[1m38/38\u001b[0m \u001b[32m━━━━━━━━━━━━━━━━━━━━\u001b[0m\u001b[37m\u001b[0m \u001b[1m1s\u001b[0m 31ms/step - loss: 0.0012 - val_loss: 0.0217\n",
            "Epoch 10/50\n",
            "\u001b[1m38/38\u001b[0m \u001b[32m━━━━━━━━━━━━━━━━━━━━\u001b[0m\u001b[37m\u001b[0m \u001b[1m1s\u001b[0m 31ms/step - loss: 0.0012 - val_loss: 0.0217\n",
            "Epoch 11/50\n",
            "\u001b[1m38/38\u001b[0m \u001b[32m━━━━━━━━━━━━━━━━━━━━\u001b[0m\u001b[37m\u001b[0m \u001b[1m1s\u001b[0m 39ms/step - loss: 0.0014 - val_loss: 0.0217\n",
            "Epoch 12/50\n",
            "\u001b[1m38/38\u001b[0m \u001b[32m━━━━━━━━━━━━━━━━━━━━\u001b[0m\u001b[37m\u001b[0m \u001b[1m2s\u001b[0m 33ms/step - loss: 0.0011 - val_loss: 0.0217\n",
            "Epoch 13/50\n",
            "\u001b[1m38/38\u001b[0m \u001b[32m━━━━━━━━━━━━━━━━━━━━\u001b[0m\u001b[37m\u001b[0m \u001b[1m1s\u001b[0m 31ms/step - loss: 0.0012 - val_loss: 0.0217\n",
            "Epoch 14/50\n",
            "\u001b[1m38/38\u001b[0m \u001b[32m━━━━━━━━━━━━━━━━━━━━\u001b[0m\u001b[37m\u001b[0m \u001b[1m1s\u001b[0m 31ms/step - loss: 0.0012 - val_loss: 0.0217\n",
            "Epoch 15/50\n",
            "\u001b[1m38/38\u001b[0m \u001b[32m━━━━━━━━━━━━━━━━━━━━\u001b[0m\u001b[37m\u001b[0m \u001b[1m1s\u001b[0m 30ms/step - loss: 0.0012 - val_loss: 0.0217\n",
            "Epoch 16/50\n",
            "\u001b[1m38/38\u001b[0m \u001b[32m━━━━━━━━━━━━━━━━━━━━\u001b[0m\u001b[37m\u001b[0m \u001b[1m1s\u001b[0m 31ms/step - loss: 0.0011 - val_loss: 0.0217\n",
            "Epoch 17/50\n",
            "\u001b[1m38/38\u001b[0m \u001b[32m━━━━━━━━━━━━━━━━━━━━\u001b[0m\u001b[37m\u001b[0m \u001b[1m1s\u001b[0m 32ms/step - loss: 0.0014 - val_loss: 0.0217\n",
            "Epoch 18/50\n",
            "\u001b[1m38/38\u001b[0m \u001b[32m━━━━━━━━━━━━━━━━━━━━\u001b[0m\u001b[37m\u001b[0m \u001b[1m1s\u001b[0m 31ms/step - loss: 0.0013 - val_loss: 0.0217\n",
            "Epoch 19/50\n",
            "\u001b[1m38/38\u001b[0m \u001b[32m━━━━━━━━━━━━━━━━━━━━\u001b[0m\u001b[37m\u001b[0m \u001b[1m1s\u001b[0m 31ms/step - loss: 0.0011 - val_loss: 0.0216\n",
            "Epoch 20/50\n",
            "\u001b[1m38/38\u001b[0m \u001b[32m━━━━━━━━━━━━━━━━━━━━\u001b[0m\u001b[37m\u001b[0m \u001b[1m1s\u001b[0m 36ms/step - loss: 0.0012 - val_loss: 0.0216\n",
            "Epoch 21/50\n",
            "\u001b[1m38/38\u001b[0m \u001b[32m━━━━━━━━━━━━━━━━━━━━\u001b[0m\u001b[37m\u001b[0m \u001b[1m2s\u001b[0m 38ms/step - loss: 0.0012 - val_loss: 0.0219\n",
            "Epoch 22/50\n",
            "\u001b[1m38/38\u001b[0m \u001b[32m━━━━━━━━━━━━━━━━━━━━\u001b[0m\u001b[37m\u001b[0m \u001b[1m2s\u001b[0m 31ms/step - loss: 0.0012 - val_loss: 0.0217\n",
            "Epoch 23/50\n",
            "\u001b[1m38/38\u001b[0m \u001b[32m━━━━━━━━━━━━━━━━━━━━\u001b[0m\u001b[37m\u001b[0m \u001b[1m1s\u001b[0m 31ms/step - loss: 0.0012 - val_loss: 0.0217\n",
            "Epoch 24/50\n",
            "\u001b[1m38/38\u001b[0m \u001b[32m━━━━━━━━━━━━━━━━━━━━\u001b[0m\u001b[37m\u001b[0m \u001b[1m1s\u001b[0m 31ms/step - loss: 0.0012 - val_loss: 0.0217\n",
            "Epoch 25/50\n",
            "\u001b[1m38/38\u001b[0m \u001b[32m━━━━━━━━━━━━━━━━━━━━\u001b[0m\u001b[37m\u001b[0m \u001b[1m1s\u001b[0m 31ms/step - loss: 0.0013 - val_loss: 0.0217\n",
            "Epoch 26/50\n",
            "\u001b[1m38/38\u001b[0m \u001b[32m━━━━━━━━━━━━━━━━━━━━\u001b[0m\u001b[37m\u001b[0m \u001b[1m1s\u001b[0m 31ms/step - loss: 0.0013 - val_loss: 0.0205\n",
            "Epoch 27/50\n",
            "\u001b[1m38/38\u001b[0m \u001b[32m━━━━━━━━━━━━━━━━━━━━\u001b[0m\u001b[37m\u001b[0m \u001b[1m1s\u001b[0m 32ms/step - loss: 0.0013 - val_loss: 0.0217\n",
            "Epoch 28/50\n",
            "\u001b[1m38/38\u001b[0m \u001b[32m━━━━━━━━━━━━━━━━━━━━\u001b[0m\u001b[37m\u001b[0m \u001b[1m1s\u001b[0m 31ms/step - loss: 0.0012 - val_loss: 0.0217\n",
            "Epoch 29/50\n",
            "\u001b[1m38/38\u001b[0m \u001b[32m━━━━━━━━━━━━━━━━━━━━\u001b[0m\u001b[37m\u001b[0m \u001b[1m1s\u001b[0m 31ms/step - loss: 0.0014 - val_loss: 0.0217\n",
            "Epoch 30/50\n",
            "\u001b[1m38/38\u001b[0m \u001b[32m━━━━━━━━━━━━━━━━━━━━\u001b[0m\u001b[37m\u001b[0m \u001b[1m1s\u001b[0m 33ms/step - loss: 0.0011 - val_loss: 0.0217\n",
            "Epoch 31/50\n",
            "\u001b[1m38/38\u001b[0m \u001b[32m━━━━━━━━━━━━━━━━━━━━\u001b[0m\u001b[37m\u001b[0m \u001b[1m3s\u001b[0m 40ms/step - loss: 0.0012 - val_loss: 0.0217\n",
            "Epoch 32/50\n",
            "\u001b[1m38/38\u001b[0m \u001b[32m━━━━━━━━━━━━━━━━━━━━\u001b[0m\u001b[37m\u001b[0m \u001b[1m1s\u001b[0m 32ms/step - loss: 0.0012 - val_loss: 0.0217\n",
            "Epoch 33/50\n",
            "\u001b[1m38/38\u001b[0m \u001b[32m━━━━━━━━━━━━━━━━━━━━\u001b[0m\u001b[37m\u001b[0m \u001b[1m1s\u001b[0m 31ms/step - loss: 0.0013 - val_loss: 0.0217\n",
            "Epoch 34/50\n",
            "\u001b[1m38/38\u001b[0m \u001b[32m━━━━━━━━━━━━━━━━━━━━\u001b[0m\u001b[37m\u001b[0m \u001b[1m1s\u001b[0m 32ms/step - loss: 0.0014 - val_loss: 0.0217\n",
            "Epoch 35/50\n",
            "\u001b[1m38/38\u001b[0m \u001b[32m━━━━━━━━━━━━━━━━━━━━\u001b[0m\u001b[37m\u001b[0m \u001b[1m1s\u001b[0m 31ms/step - loss: 0.0011 - val_loss: 0.0217\n",
            "Epoch 36/50\n",
            "\u001b[1m38/38\u001b[0m \u001b[32m━━━━━━━━━━━━━━━━━━━━\u001b[0m\u001b[37m\u001b[0m \u001b[1m1s\u001b[0m 32ms/step - loss: 0.0013 - val_loss: 0.0217\n",
            "Epoch 37/50\n",
            "\u001b[1m38/38\u001b[0m \u001b[32m━━━━━━━━━━━━━━━━━━━━\u001b[0m\u001b[37m\u001b[0m \u001b[1m1s\u001b[0m 32ms/step - loss: 0.0013 - val_loss: 0.0217\n",
            "Epoch 38/50\n",
            "\u001b[1m38/38\u001b[0m \u001b[32m━━━━━━━━━━━━━━━━━━━━\u001b[0m\u001b[37m\u001b[0m \u001b[1m1s\u001b[0m 31ms/step - loss: 0.0014 - val_loss: 0.0217\n",
            "Epoch 39/50\n",
            "\u001b[1m38/38\u001b[0m \u001b[32m━━━━━━━━━━━━━━━━━━━━\u001b[0m\u001b[37m\u001b[0m \u001b[1m1s\u001b[0m 33ms/step - loss: 0.0012 - val_loss: 0.0217\n",
            "Epoch 40/50\n",
            "\u001b[1m38/38\u001b[0m \u001b[32m━━━━━━━━━━━━━━━━━━━━\u001b[0m\u001b[37m\u001b[0m \u001b[1m3s\u001b[0m 40ms/step - loss: 0.0013 - val_loss: 0.0217\n",
            "Epoch 41/50\n",
            "\u001b[1m38/38\u001b[0m \u001b[32m━━━━━━━━━━━━━━━━━━━━\u001b[0m\u001b[37m\u001b[0m \u001b[1m1s\u001b[0m 32ms/step - loss: 0.0016 - val_loss: 0.0217\n",
            "Epoch 42/50\n",
            "\u001b[1m38/38\u001b[0m \u001b[32m━━━━━━━━━━━━━━━━━━━━\u001b[0m\u001b[37m\u001b[0m \u001b[1m1s\u001b[0m 32ms/step - loss: 0.0013 - val_loss: 0.0217\n",
            "Epoch 43/50\n",
            "\u001b[1m38/38\u001b[0m \u001b[32m━━━━━━━━━━━━━━━━━━━━\u001b[0m\u001b[37m\u001b[0m \u001b[1m1s\u001b[0m 31ms/step - loss: 0.0015 - val_loss: 0.0217\n",
            "Epoch 44/50\n",
            "\u001b[1m38/38\u001b[0m \u001b[32m━━━━━━━━━━━━━━━━━━━━\u001b[0m\u001b[37m\u001b[0m \u001b[1m1s\u001b[0m 31ms/step - loss: 0.0012 - val_loss: 0.0217\n",
            "Epoch 45/50\n",
            "\u001b[1m38/38\u001b[0m \u001b[32m━━━━━━━━━━━━━━━━━━━━\u001b[0m\u001b[37m\u001b[0m \u001b[1m1s\u001b[0m 31ms/step - loss: 0.0011 - val_loss: 0.0217\n",
            "Epoch 46/50\n",
            "\u001b[1m38/38\u001b[0m \u001b[32m━━━━━━━━━━━━━━━━━━━━\u001b[0m\u001b[37m\u001b[0m \u001b[1m1s\u001b[0m 32ms/step - loss: 0.0012 - val_loss: 0.0217\n",
            "Epoch 47/50\n",
            "\u001b[1m38/38\u001b[0m \u001b[32m━━━━━━━━━━━━━━━━━━━━\u001b[0m\u001b[37m\u001b[0m \u001b[1m1s\u001b[0m 31ms/step - loss: 0.0013 - val_loss: 0.0217\n",
            "Epoch 48/50\n",
            "\u001b[1m38/38\u001b[0m \u001b[32m━━━━━━━━━━━━━━━━━━━━\u001b[0m\u001b[37m\u001b[0m \u001b[1m1s\u001b[0m 32ms/step - loss: 0.0014 - val_loss: 0.0217\n",
            "Epoch 49/50\n",
            "\u001b[1m38/38\u001b[0m \u001b[32m━━━━━━━━━━━━━━━━━━━━\u001b[0m\u001b[37m\u001b[0m \u001b[1m1s\u001b[0m 34ms/step - loss: 0.0013 - val_loss: 0.0217\n",
            "Epoch 50/50\n",
            "\u001b[1m38/38\u001b[0m \u001b[32m━━━━━━━━━━━━━━━━━━━━\u001b[0m\u001b[37m\u001b[0m \u001b[1m3s\u001b[0m 35ms/step - loss: 0.0011 - val_loss: 0.0217\n"
          ]
        }
      ]
    },
    {
      "cell_type": "code",
      "source": [
        "plt.plot(history_cae.history['loss'], label='Training Loss')\n",
        "plt.plot(history_cae.history['val_loss'], label='Validation Loss')\n",
        "plt.xlabel('Epochs')\n",
        "plt.ylabel('Loss')\n",
        "plt.title('Training and Validation Loss Over Epochs')\n",
        "plt.legend()\n",
        "plt.show()"
      ],
      "metadata": {
        "colab": {
          "base_uri": "https://localhost:8080/",
          "height": 472
        },
        "id": "9tKuwxvIcJn4",
        "outputId": "4c919248-5c8b-4254-808b-a21da6d7772f"
      },
      "execution_count": null,
      "outputs": [
        {
          "output_type": "display_data",
          "data": {
            "text/plain": [
              "<Figure size 640x480 with 1 Axes>"
            ],
            "image/png": "[encoded data removed]"
          },
          "metadata": {}
        }
      ]
    },
    {
      "cell_type": "markdown",
      "source": [
        "#PCA"
      ],
      "metadata": {
        "id": "68p6nfs4cPQ4"
      }
    },
    {
      "cell_type": "code",
      "source": [
        "latent_features = encoder.predict(cwt_images)"
      ],
      "metadata": {
        "colab": {
          "base_uri": "https://localhost:8080/"
        },
        "id": "_ClIQgxbcTQn",
        "outputId": "4f29aafd-a111-4d9e-f2c4-bb1ec1de332a"
      },
      "execution_count": null,
      "outputs": [
        {
          "output_type": "stream",
          "name": "stdout",
          "text": [
            "\u001b[1m47/47\u001b[0m \u001b[32m━━━━━━━━━━━━━━━━━━━━\u001b[0m\u001b[37m\u001b[0m \u001b[1m1s\u001b[0m 18ms/step\n"
          ]
        }
      ]
    },
    {
      "cell_type": "code",
      "source": [
        "# 4. Apply PCA to latent features\n",
        "pca = PCA(n_components=128)\n",
        "latent_features_pca = pca.fit_transform(latent_features)"
      ],
      "metadata": {
        "id": "75YX99_TcXCF"
      },
      "execution_count": null,
      "outputs": []
    },
    {
      "cell_type": "code",
      "source": [
        "latent_features_pca.shape"
      ],
      "metadata": {
        "colab": {
          "base_uri": "https://localhost:8080/"
        },
        "id": "X1Cq2x3ScaCx",
        "outputId": "16c4e6c8-a701-4220-a50f-9f453db654c5"
      },
      "execution_count": null,
      "outputs": [
        {
          "output_type": "execute_result",
          "data": {
            "text/plain": [
              "(1500, 128)"
            ]
          },
          "metadata": {},
          "execution_count": 38
        }
      ]
    },
    {
      "cell_type": "code",
      "source": [
        "print(\"Explained variance by 128 components:\", sum(pca.explained_variance_ratio_))"
      ],
      "metadata": {
        "colab": {
          "base_uri": "https://localhost:8080/"
        },
        "id": "RdNloQwBcfW-",
        "outputId": "81d39696-26cc-4737-ca9d-85f0faee1b4d"
      },
      "execution_count": null,
      "outputs": [
        {
          "output_type": "stream",
          "name": "stdout",
          "text": [
            "Explained variance by 128 components: 0.9999999647804905\n"
          ]
        }
      ]
    },
    {
      "cell_type": "markdown",
      "source": [
        "#stat features extraction"
      ],
      "metadata": {
        "id": "TTFDxcX0ci7j"
      }
    },
    {
      "cell_type": "code",
      "source": [
        "from scipy.stats import kurtosis, skew"
      ],
      "metadata": {
        "id": "3tqXEPQhcghy"
      },
      "execution_count": null,
      "outputs": []
    },
    {
      "cell_type": "code",
      "source": [
        "def compute_stat_features(X):\n",
        "    mean = np.mean(X, axis=1)\n",
        "    var = np.var(X, axis=1)\n",
        "    std = np.std(X, axis=1)\n",
        "    min_val = np.min(X, axis=1)\n",
        "    max_val = np.max(X, axis=1)\n",
        "    range_val = max_val - min_val\n",
        "    rms = np.sqrt(np.mean(np.square(X), axis=1))\n",
        "    energy = np.sum(np.square(X), axis=1)\n",
        "    skewness = np.mean(((X - mean[:, np.newaxis]) / std[:, np.newaxis])**3, axis=1)\n",
        "    kurtosis = np.mean(((X - mean[:, np.newaxis]) / std[:, np.newaxis])**4, axis=1)\n",
        "    power = np.mean(np.square(X), axis=1)\n",
        "    crest_factor = max_val / rms\n",
        "    shape_factor = rms / mean\n",
        "    impulse_factor = max_val / mean\n",
        "    return np.hstack((mean[:, np.newaxis], var[:, np.newaxis], std[:, np.newaxis], min_val[:, np.newaxis],\n",
        "                     max_val[:, np.newaxis],range_val[:, np.newaxis], rms[:, np.newaxis], energy[:, np.newaxis],\n",
        "                     skewness[:, np.newaxis], kurtosis[:, np.newaxis], power[:, np.newaxis], crest_factor[:, np.newaxis],\n",
        "                     shape_factor[:, np.newaxis], impulse_factor[:, np.newaxis]))"
      ],
      "metadata": {
        "id": "Buri9xPhco4m"
      },
      "execution_count": null,
      "outputs": []
    },
    {
      "cell_type": "code",
      "source": [
        "stat_features = compute_stat_features(X_windowed)"
      ],
      "metadata": {
        "id": "dcohjZWvcsG6"
      },
      "execution_count": null,
      "outputs": []
    },
    {
      "cell_type": "code",
      "source": [
        "window_ids = np.arange(len(latent_features_pca))"
      ],
      "metadata": {
        "id": "Y-QfDJOQcxci"
      },
      "execution_count": null,
      "outputs": []
    },
    {
      "cell_type": "code",
      "source": [
        "FAE_with_ids = np.hstack((window_ids[:, np.newaxis], latent_features_pca))\n",
        "Fstat_with_ids = np.hstack((window_ids[:, np.newaxis], stat_features))"
      ],
      "metadata": {
        "id": "sxMB7kgEc4sh"
      },
      "execution_count": null,
      "outputs": []
    },
    {
      "cell_type": "code",
      "source": [
        "# Validate IDs before combining\n",
        "if not np.array_equal(FAE_with_ids[:, 0], Fstat_with_ids[:, 0]):\n",
        "    raise ValueError(\"Window IDs do not match between FAE and Fstat!\")"
      ],
      "metadata": {
        "id": "A8dctA8rc9lB"
      },
      "execution_count": null,
      "outputs": []
    },
    {
      "cell_type": "code",
      "source": [
        "# 6. Combine PCA features with statistical features\n",
        "hybrid_features = np.hstack((FAE_with_ids, Fstat_with_ids[:, 1:]))"
      ],
      "metadata": {
        "id": "2Mu5lrDLdCHq"
      },
      "execution_count": null,
      "outputs": []
    },
    {
      "cell_type": "code",
      "source": [
        "hybrid_features.shape"
      ],
      "metadata": {
        "colab": {
          "base_uri": "https://localhost:8080/"
        },
        "id": "9KedjovMdE5v",
        "outputId": "23adef98-ae0b-4e7c-ad80-94e781599886"
      },
      "execution_count": null,
      "outputs": [
        {
          "output_type": "execute_result",
          "data": {
            "text/plain": [
              "(1500, 143)"
            ]
          },
          "metadata": {},
          "execution_count": 47
        }
      ]
    },
    {
      "cell_type": "markdown",
      "source": [
        "#LSTM classifier"
      ],
      "metadata": {
        "id": "NvaKe6I5dGNZ"
      }
    },
    {
      "cell_type": "code",
      "source": [
        "y_categorical = to_categorical(y_windowed, num_classes=3)"
      ],
      "metadata": {
        "id": "CdunPoabdIW9"
      },
      "execution_count": null,
      "outputs": []
    },
    {
      "cell_type": "code",
      "source": [
        "X_train, X_test, y_train, y_test = train_test_split(hybrid_features, y_categorical, test_size=0.3, random_state=42)"
      ],
      "metadata": {
        "id": "MpYOCCkydM61"
      },
      "execution_count": null,
      "outputs": []
    },
    {
      "cell_type": "code",
      "source": [
        "# Build LSTM classifier\n",
        "lstm_model = Sequential([\n",
        "    LSTM(128, input_shape=(hybrid_features.shape[1], 1)),\n",
        "    Dense(3, activation='softmax')\n",
        "])"
      ],
      "metadata": {
        "id": "x3OE5-rHdRsR"
      },
      "execution_count": null,
      "outputs": []
    },
    {
      "cell_type": "code",
      "source": [
        "print('Xtrain shape is',X_train.shape)\n",
        "print('Xtest shape is',X_test.shape)\n",
        "print('ytrain shape is',y_train.shape)\n",
        "print('ytest shape is',y_test.shape)"
      ],
      "metadata": {
        "colab": {
          "base_uri": "https://localhost:8080/"
        },
        "id": "u1tjGRTgdVPh",
        "outputId": "3a379772-6861-45e3-8140-f70a63add879"
      },
      "execution_count": null,
      "outputs": [
        {
          "output_type": "stream",
          "name": "stdout",
          "text": [
            "Xtrain shape is (1050, 143)\n",
            "Xtest shape is (450, 143)\n",
            "ytrain shape is (1050, 3)\n",
            "ytest shape is (450, 3)\n"
          ]
        }
      ]
    },
    {
      "cell_type": "code",
      "source": [
        "X_train_lstm = X_train.reshape(X_train.shape[0], 1, X_train.shape[1])\n",
        "X_test_lstm = X_test.reshape(X_test.shape[0], 1, X_test.shape[1])"
      ],
      "metadata": {
        "id": "gyGp2S-7daHv"
      },
      "execution_count": null,
      "outputs": []
    },
    {
      "cell_type": "code",
      "source": [
        "print('xtrain lstm shape is',X_train_lstm.shape)\n",
        "print('xtest lstm shape is',X_test_lstm.shape)"
      ],
      "metadata": {
        "colab": {
          "base_uri": "https://localhost:8080/"
        },
        "id": "XGdSqV4yddJl",
        "outputId": "f6f95985-1f87-428c-f87d-11467ec91b1e"
      },
      "execution_count": null,
      "outputs": [
        {
          "output_type": "stream",
          "name": "stdout",
          "text": [
            "xtrain lstm shape is (1050, 1, 143)\n",
            "xtest lstm shape is (450, 1, 143)\n"
          ]
        }
      ]
    },
    {
      "cell_type": "code",
      "source": [
        "lstm_model.compile(optimizer='adam', loss='categorical_crossentropy', metrics=['accuracy'])"
      ],
      "metadata": {
        "id": "TQcKP6fsdf90"
      },
      "execution_count": null,
      "outputs": []
    },
    {
      "cell_type": "code",
      "source": [
        "history_lstm=lstm_model.fit(X_train_lstm, y_train, validation_data=(X_test_lstm, y_test), epochs=50, batch_size=32)"
      ],
      "metadata": {
        "colab": {
          "base_uri": "https://localhost:8080/"
        },
        "id": "Er3wC0I6dgrG",
        "outputId": "d708aec1-4ef9-4892-9574-1261f1e30183"
      },
      "execution_count": null,
      "outputs": [
        {
          "output_type": "stream",
          "name": "stdout",
          "text": [
            "Epoch 1/50\n",
            "\u001b[1m33/33\u001b[0m \u001b[32m━━━━━━━━━━━━━━━━━━━━\u001b[0m\u001b[37m\u001b[0m \u001b[1m2s\u001b[0m 16ms/step - accuracy: 0.4484 - loss: 1.0120 - val_accuracy: 0.6467 - val_loss: 0.7884\n",
            "Epoch 2/50\n",
            "\u001b[1m33/33\u001b[0m \u001b[32m━━━━━━━━━━━━━━━━━━━━\u001b[0m\u001b[37m\u001b[0m \u001b[1m0s\u001b[0m 7ms/step - accuracy: 0.7437 - loss: 0.6666 - val_accuracy: 0.8000 - val_loss: 0.5524\n",
            "Epoch 3/50\n",
            "\u001b[1m33/33\u001b[0m \u001b[32m━━━━━━━━━━━━━━━━━━━━\u001b[0m\u001b[37m\u001b[0m \u001b[1m0s\u001b[0m 7ms/step - accuracy: 0.8027 - loss: 0.5562 - val_accuracy: 0.8422 - val_loss: 0.4994\n",
            "Epoch 4/50\n",
            "\u001b[1m33/33\u001b[0m \u001b[32m━━━━━━━━━━━━━━━━━━━━\u001b[0m\u001b[37m\u001b[0m \u001b[1m0s\u001b[0m 8ms/step - accuracy: 0.8430 - loss: 0.4470 - val_accuracy: 0.8822 - val_loss: 0.4044\n",
            "Epoch 5/50\n",
            "\u001b[1m33/33\u001b[0m \u001b[32m━━━━━━━━━━━━━━━━━━━━\u001b[0m\u001b[37m\u001b[0m \u001b[1m0s\u001b[0m 8ms/step - accuracy: 0.8814 - loss: 0.3833 - val_accuracy: 0.8844 - val_loss: 0.3468\n",
            "Epoch 6/50\n",
            "\u001b[1m33/33\u001b[0m \u001b[32m━━━━━━━━━━━━━━━━━━━━\u001b[0m\u001b[37m\u001b[0m \u001b[1m1s\u001b[0m 8ms/step - accuracy: 0.8989 - loss: 0.3284 - val_accuracy: 0.9000 - val_loss: 0.3236\n",
            "Epoch 7/50\n",
            "\u001b[1m33/33\u001b[0m \u001b[32m━━━━━━━━━━━━━━━━━━━━\u001b[0m\u001b[37m\u001b[0m \u001b[1m0s\u001b[0m 5ms/step - accuracy: 0.9114 - loss: 0.2963 - val_accuracy: 0.9089 - val_loss: 0.2973\n",
            "Epoch 8/50\n",
            "\u001b[1m33/33\u001b[0m \u001b[32m━━━━━━━━━━━━━━━━━━━━\u001b[0m\u001b[37m\u001b[0m \u001b[1m0s\u001b[0m 6ms/step - accuracy: 0.9321 - loss: 0.2592 - val_accuracy: 0.9200 - val_loss: 0.2480\n",
            "Epoch 9/50\n",
            "\u001b[1m33/33\u001b[0m \u001b[32m━━━━━━━━━━━━━━━━━━━━\u001b[0m\u001b[37m\u001b[0m \u001b[1m0s\u001b[0m 5ms/step - accuracy: 0.9422 - loss: 0.1956 - val_accuracy: 0.9467 - val_loss: 0.2207\n",
            "Epoch 10/50\n",
            "\u001b[1m33/33\u001b[0m \u001b[32m━━━━━━━━━━━━━━━━━━━━\u001b[0m\u001b[37m\u001b[0m \u001b[1m0s\u001b[0m 5ms/step - accuracy: 0.9497 - loss: 0.1972 - val_accuracy: 0.9333 - val_loss: 0.2019\n",
            "Epoch 11/50\n",
            "\u001b[1m33/33\u001b[0m \u001b[32m━━━━━━━━━━━━━━━━━━━━\u001b[0m\u001b[37m\u001b[0m \u001b[1m0s\u001b[0m 5ms/step - accuracy: 0.9519 - loss: 0.1823 - val_accuracy: 0.9356 - val_loss: 0.2179\n",
            "Epoch 12/50\n",
            "\u001b[1m33/33\u001b[0m \u001b[32m━━━━━━━━━━━━━━━━━━━━\u001b[0m\u001b[37m\u001b[0m \u001b[1m0s\u001b[0m 6ms/step - accuracy: 0.9441 - loss: 0.1917 - val_accuracy: 0.9356 - val_loss: 0.1923\n",
            "Epoch 13/50\n",
            "\u001b[1m33/33\u001b[0m \u001b[32m━━━━━━━━━━━━━━━━━━━━\u001b[0m\u001b[37m\u001b[0m \u001b[1m0s\u001b[0m 5ms/step - accuracy: 0.9628 - loss: 0.1697 - val_accuracy: 0.9489 - val_loss: 0.1970\n",
            "Epoch 14/50\n",
            "\u001b[1m33/33\u001b[0m \u001b[32m━━━━━━━━━━━━━━━━━━━━\u001b[0m\u001b[37m\u001b[0m \u001b[1m0s\u001b[0m 5ms/step - accuracy: 0.9731 - loss: 0.1464 - val_accuracy: 0.9267 - val_loss: 0.2101\n",
            "Epoch 15/50\n",
            "\u001b[1m33/33\u001b[0m \u001b[32m━━━━━━━━━━━━━━━━━━━━\u001b[0m\u001b[37m\u001b[0m \u001b[1m0s\u001b[0m 6ms/step - accuracy: 0.9636 - loss: 0.1492 - val_accuracy: 0.9356 - val_loss: 0.1797\n",
            "Epoch 16/50\n",
            "\u001b[1m33/33\u001b[0m \u001b[32m━━━━━━━━━━━━━━━━━━━━\u001b[0m\u001b[37m\u001b[0m \u001b[1m0s\u001b[0m 6ms/step - accuracy: 0.9692 - loss: 0.1468 - val_accuracy: 0.9400 - val_loss: 0.1773\n",
            "Epoch 17/50\n",
            "\u001b[1m33/33\u001b[0m \u001b[32m━━━━━━━━━━━━━━━━━━━━\u001b[0m\u001b[37m\u001b[0m \u001b[1m0s\u001b[0m 5ms/step - accuracy: 0.9700 - loss: 0.1479 - val_accuracy: 0.9556 - val_loss: 0.1468\n",
            "Epoch 18/50\n",
            "\u001b[1m33/33\u001b[0m \u001b[32m━━━━━━━━━━━━━━━━━━━━\u001b[0m\u001b[37m\u001b[0m \u001b[1m0s\u001b[0m 5ms/step - accuracy: 0.9784 - loss: 0.1067 - val_accuracy: 0.9533 - val_loss: 0.1398\n",
            "Epoch 19/50\n",
            "\u001b[1m33/33\u001b[0m \u001b[32m━━━━━━━━━━━━━━━━━━━━\u001b[0m\u001b[37m\u001b[0m \u001b[1m0s\u001b[0m 5ms/step - accuracy: 0.9785 - loss: 0.1106 - val_accuracy: 0.9622 - val_loss: 0.1388\n",
            "Epoch 20/50\n",
            "\u001b[1m33/33\u001b[0m \u001b[32m━━━━━━━━━━━━━━━━━━━━\u001b[0m\u001b[37m\u001b[0m \u001b[1m0s\u001b[0m 5ms/step - accuracy: 0.9840 - loss: 0.0968 - val_accuracy: 0.9556 - val_loss: 0.1448\n",
            "Epoch 21/50\n",
            "\u001b[1m33/33\u001b[0m \u001b[32m━━━━━━━━━━━━━━━━━━━━\u001b[0m\u001b[37m\u001b[0m \u001b[1m0s\u001b[0m 6ms/step - accuracy: 0.9671 - loss: 0.1178 - val_accuracy: 0.9533 - val_loss: 0.1381\n",
            "Epoch 22/50\n",
            "\u001b[1m33/33\u001b[0m \u001b[32m━━━━━━━━━━━━━━━━━━━━\u001b[0m\u001b[37m\u001b[0m \u001b[1m0s\u001b[0m 6ms/step - accuracy: 0.9755 - loss: 0.1140 - val_accuracy: 0.9511 - val_loss: 0.1317\n",
            "Epoch 23/50\n",
            "\u001b[1m33/33\u001b[0m \u001b[32m━━━━━━━━━━━━━━━━━━━━\u001b[0m\u001b[37m\u001b[0m \u001b[1m0s\u001b[0m 6ms/step - accuracy: 0.9860 - loss: 0.0922 - val_accuracy: 0.9778 - val_loss: 0.0966\n",
            "Epoch 24/50\n",
            "\u001b[1m33/33\u001b[0m \u001b[32m━━━━━━━━━━━━━━━━━━━━\u001b[0m\u001b[37m\u001b[0m \u001b[1m0s\u001b[0m 5ms/step - accuracy: 0.9877 - loss: 0.0732 - val_accuracy: 0.9600 - val_loss: 0.1019\n",
            "Epoch 25/50\n",
            "\u001b[1m33/33\u001b[0m \u001b[32m━━━━━━━━━━━━━━━━━━━━\u001b[0m\u001b[37m\u001b[0m \u001b[1m0s\u001b[0m 6ms/step - accuracy: 0.9799 - loss: 0.0757 - val_accuracy: 0.9622 - val_loss: 0.0990\n",
            "Epoch 26/50\n",
            "\u001b[1m33/33\u001b[0m \u001b[32m━━━━━━━━━━━━━━━━━━━━\u001b[0m\u001b[37m\u001b[0m \u001b[1m0s\u001b[0m 5ms/step - accuracy: 0.9808 - loss: 0.0867 - val_accuracy: 0.9578 - val_loss: 0.1092\n",
            "Epoch 27/50\n",
            "\u001b[1m33/33\u001b[0m \u001b[32m━━━━━━━━━━━━━━━━━━━━\u001b[0m\u001b[37m\u001b[0m \u001b[1m0s\u001b[0m 5ms/step - accuracy: 0.9866 - loss: 0.0700 - val_accuracy: 0.9689 - val_loss: 0.0973\n",
            "Epoch 28/50\n",
            "\u001b[1m33/33\u001b[0m \u001b[32m━━━━━━━━━━━━━━━━━━━━\u001b[0m\u001b[37m\u001b[0m \u001b[1m0s\u001b[0m 5ms/step - accuracy: 0.9900 - loss: 0.0650 - val_accuracy: 0.9600 - val_loss: 0.1034\n",
            "Epoch 29/50\n",
            "\u001b[1m33/33\u001b[0m \u001b[32m━━━━━━━━━━━━━━━━━━━━\u001b[0m\u001b[37m\u001b[0m \u001b[1m0s\u001b[0m 5ms/step - accuracy: 0.9896 - loss: 0.0648 - val_accuracy: 0.9733 - val_loss: 0.0983\n",
            "Epoch 30/50\n",
            "\u001b[1m33/33\u001b[0m \u001b[32m━━━━━━━━━━━━━━━━━━━━\u001b[0m\u001b[37m\u001b[0m \u001b[1m0s\u001b[0m 5ms/step - accuracy: 0.9870 - loss: 0.0584 - val_accuracy: 0.9689 - val_loss: 0.0966\n",
            "Epoch 31/50\n",
            "\u001b[1m33/33\u001b[0m \u001b[32m━━━━━━━━━━━━━━━━━━━━\u001b[0m\u001b[37m\u001b[0m \u001b[1m0s\u001b[0m 6ms/step - accuracy: 0.9732 - loss: 0.0776 - val_accuracy: 0.9667 - val_loss: 0.0934\n",
            "Epoch 32/50\n",
            "\u001b[1m33/33\u001b[0m \u001b[32m━━━━━━━━━━━━━━━━━━━━\u001b[0m\u001b[37m\u001b[0m \u001b[1m0s\u001b[0m 6ms/step - accuracy: 0.9860 - loss: 0.0572 - val_accuracy: 0.9578 - val_loss: 0.1036\n",
            "Epoch 33/50\n",
            "\u001b[1m33/33\u001b[0m \u001b[32m━━━━━━━━━━━━━━━━━━━━\u001b[0m\u001b[37m\u001b[0m \u001b[1m0s\u001b[0m 5ms/step - accuracy: 0.9932 - loss: 0.0494 - val_accuracy: 0.9778 - val_loss: 0.0797\n",
            "Epoch 34/50\n",
            "\u001b[1m33/33\u001b[0m \u001b[32m━━━━━━━━━━━━━━━━━━━━\u001b[0m\u001b[37m\u001b[0m \u001b[1m0s\u001b[0m 5ms/step - accuracy: 0.9903 - loss: 0.0540 - val_accuracy: 0.9778 - val_loss: 0.0662\n",
            "Epoch 35/50\n",
            "\u001b[1m33/33\u001b[0m \u001b[32m━━━━━━━━━━━━━━━━━━━━\u001b[0m\u001b[37m\u001b[0m \u001b[1m0s\u001b[0m 6ms/step - accuracy: 0.9892 - loss: 0.0444 - val_accuracy: 0.9756 - val_loss: 0.0696\n",
            "Epoch 36/50\n",
            "\u001b[1m33/33\u001b[0m \u001b[32m━━━━━━━━━━━━━━━━━━━━\u001b[0m\u001b[37m\u001b[0m \u001b[1m0s\u001b[0m 6ms/step - accuracy: 0.9930 - loss: 0.0389 - val_accuracy: 0.9711 - val_loss: 0.0821\n",
            "Epoch 37/50\n",
            "\u001b[1m33/33\u001b[0m \u001b[32m━━━━━━━━━━━━━━━━━━━━\u001b[0m\u001b[37m\u001b[0m \u001b[1m0s\u001b[0m 5ms/step - accuracy: 0.9910 - loss: 0.0468 - val_accuracy: 0.9778 - val_loss: 0.0678\n",
            "Epoch 38/50\n",
            "\u001b[1m33/33\u001b[0m \u001b[32m━━━━━━━━━━━━━━━━━━━━\u001b[0m\u001b[37m\u001b[0m \u001b[1m0s\u001b[0m 5ms/step - accuracy: 0.9896 - loss: 0.0371 - val_accuracy: 0.9822 - val_loss: 0.0589\n",
            "Epoch 39/50\n",
            "\u001b[1m33/33\u001b[0m \u001b[32m━━━━━━━━━━━━━━━━━━━━\u001b[0m\u001b[37m\u001b[0m \u001b[1m0s\u001b[0m 5ms/step - accuracy: 0.9937 - loss: 0.0444 - val_accuracy: 0.9822 - val_loss: 0.0642\n",
            "Epoch 40/50\n",
            "\u001b[1m33/33\u001b[0m \u001b[32m━━━━━━━━━━━━━━━━━━━━\u001b[0m\u001b[37m\u001b[0m \u001b[1m0s\u001b[0m 6ms/step - accuracy: 0.9968 - loss: 0.0305 - val_accuracy: 0.9689 - val_loss: 0.0749\n",
            "Epoch 41/50\n",
            "\u001b[1m33/33\u001b[0m \u001b[32m━━━━━━━━━━━━━━━━━━━━\u001b[0m\u001b[37m\u001b[0m \u001b[1m0s\u001b[0m 6ms/step - accuracy: 0.9928 - loss: 0.0396 - val_accuracy: 0.9867 - val_loss: 0.0526\n",
            "Epoch 42/50\n",
            "\u001b[1m33/33\u001b[0m \u001b[32m━━━━━━━━━━━━━━━━━━━━\u001b[0m\u001b[37m\u001b[0m \u001b[1m0s\u001b[0m 5ms/step - accuracy: 0.9972 - loss: 0.0276 - val_accuracy: 0.9844 - val_loss: 0.0556\n",
            "Epoch 43/50\n",
            "\u001b[1m33/33\u001b[0m \u001b[32m━━━━━━━━━━━━━━━━━━━━\u001b[0m\u001b[37m\u001b[0m \u001b[1m0s\u001b[0m 6ms/step - accuracy: 0.9960 - loss: 0.0373 - val_accuracy: 0.9800 - val_loss: 0.0543\n",
            "Epoch 44/50\n",
            "\u001b[1m33/33\u001b[0m \u001b[32m━━━━━━━━━━━━━━━━━━━━\u001b[0m\u001b[37m\u001b[0m \u001b[1m0s\u001b[0m 5ms/step - accuracy: 0.9941 - loss: 0.0319 - val_accuracy: 0.9822 - val_loss: 0.0501\n",
            "Epoch 45/50\n",
            "\u001b[1m33/33\u001b[0m \u001b[32m━━━━━━━━━━━━━━━━━━━━\u001b[0m\u001b[37m\u001b[0m \u001b[1m0s\u001b[0m 5ms/step - accuracy: 0.9980 - loss: 0.0241 - val_accuracy: 0.9800 - val_loss: 0.0602\n",
            "Epoch 46/50\n",
            "\u001b[1m33/33\u001b[0m \u001b[32m━━━━━━━━━━━━━━━━━━━━\u001b[0m\u001b[37m\u001b[0m \u001b[1m0s\u001b[0m 5ms/step - accuracy: 0.9977 - loss: 0.0243 - val_accuracy: 0.9822 - val_loss: 0.0543\n",
            "Epoch 47/50\n",
            "\u001b[1m33/33\u001b[0m \u001b[32m━━━━━━━━━━━━━━━━━━━━\u001b[0m\u001b[37m\u001b[0m \u001b[1m0s\u001b[0m 5ms/step - accuracy: 0.9967 - loss: 0.0254 - val_accuracy: 0.9822 - val_loss: 0.0520\n",
            "Epoch 48/50\n",
            "\u001b[1m33/33\u001b[0m \u001b[32m━━━━━━━━━━━━━━━━━━━━\u001b[0m\u001b[37m\u001b[0m \u001b[1m0s\u001b[0m 6ms/step - accuracy: 0.9881 - loss: 0.0424 - val_accuracy: 0.9867 - val_loss: 0.0518\n",
            "Epoch 49/50\n",
            "\u001b[1m33/33\u001b[0m \u001b[32m━━━━━━━━━━━━━━━━━━━━\u001b[0m\u001b[37m\u001b[0m \u001b[1m0s\u001b[0m 7ms/step - accuracy: 0.9976 - loss: 0.0268 - val_accuracy: 0.9800 - val_loss: 0.0556\n",
            "Epoch 50/50\n",
            "\u001b[1m33/33\u001b[0m \u001b[32m━━━━━━━━━━━━━━━━━━━━\u001b[0m\u001b[37m\u001b[0m \u001b[1m0s\u001b[0m 9ms/step - accuracy: 0.9980 - loss: 0.0259 - val_accuracy: 0.9867 - val_loss: 0.0479\n"
          ]
        }
      ]
    },
    {
      "cell_type": "code",
      "source": [
        "# Step 7: Evaluate the Model\n",
        "val_accuracy = history_lstm.history['val_accuracy'][-1]\n",
        "print(\"Validation Accuracy:\", val_accuracy)"
      ],
      "metadata": {
        "colab": {
          "base_uri": "https://localhost:8080/"
        },
        "id": "dS-KsYJHo8bM",
        "outputId": "9960430a-4612-42df-994e-40dc375aa855"
      },
      "execution_count": null,
      "outputs": [
        {
          "output_type": "stream",
          "name": "stdout",
          "text": [
            "Validation Accuracy: 0.9866666793823242\n"
          ]
        }
      ]
    },
    {
      "cell_type": "code",
      "source": [
        "test_loss, test_accuracy = lstm_model.evaluate(X_test_lstm, y_test)\n",
        "print(f\"Test Loss: {test_loss:.4f}\")\n",
        "print(f\"Test Accuracy: {test_accuracy:.4f}\")"
      ],
      "metadata": {
        "colab": {
          "base_uri": "https://localhost:8080/"
        },
        "id": "-NyZkUBcpE-k",
        "outputId": "7b75a3af-1546-466e-f4a6-bb90e1c33e17"
      },
      "execution_count": null,
      "outputs": [
        {
          "output_type": "stream",
          "name": "stdout",
          "text": [
            "\u001b[1m15/15\u001b[0m \u001b[32m━━━━━━━━━━━━━━━━━━━━\u001b[0m\u001b[37m\u001b[0m \u001b[1m0s\u001b[0m 3ms/step - accuracy: 0.9317 - loss: 0.1765 \n",
            "Test Loss: 0.1766\n",
            "Test Accuracy: 0.9333\n"
          ]
        }
      ]
    },
    {
      "cell_type": "code",
      "source": [
        "plt.plot(history_lstm.history['accuracy'], label='Training acc')\n",
        "plt.plot(history_lstm.history['val_accuracy'], label='Validation accuracy')\n",
        "plt.xlabel('Epochs')\n",
        "plt.ylabel('acc')\n",
        "plt.title('Training and Validation acc Over Epochs')\n",
        "plt.legend()\n",
        "plt.show()"
      ],
      "metadata": {
        "colab": {
          "base_uri": "https://localhost:8080/",
          "height": 472
        },
        "id": "wBC0hF-UpW6t",
        "outputId": "f26a80de-5ce0-461d-91fa-19f5eb4ba24e"
      },
      "execution_count": null,
      "outputs": [
        {
          "output_type": "display_data",
          "data": {
            "text/plain": [
              "<Figure size 640x480 with 1 Axes>"
            ],
            "image/png": "[encoded data removed]"
          },
          "metadata": {}
        }
      ]
    },
    {
      "cell_type": "code",
      "source": [
        "plt.plot(history_lstm.history['loss'], label='Training Loss')\n",
        "plt.plot(history_lstm.history['val_loss'], label='Validation Loss')\n",
        "plt.xlabel('Epochs')\n",
        "plt.ylabel('Loss')\n",
        "plt.title('Training and Validation Loss Over Epochs')\n",
        "plt.legend()\n",
        "plt.show()"
      ],
      "metadata": {
        "colab": {
          "base_uri": "https://localhost:8080/",
          "height": 472
        },
        "id": "lsS4BHP9pbTf",
        "outputId": "9dfa2b66-7959-41a2-fcbb-bfdae6a912c8"
      },
      "execution_count": null,
      "outputs": [
        {
          "output_type": "display_data",
          "data": {
            "text/plain": [
              "<Figure size 640x480 with 1 Axes>"
            ],
            "image/png": "[encoded data removed]"
          },
          "metadata": {}
        }
      ]
    },
    {
      "cell_type": "code",
      "source": [
        "y_pred_probs = lstm_model.predict(X_test_lstm)"
      ],
      "metadata": {
        "colab": {
          "base_uri": "https://localhost:8080/"
        },
        "id": "SQxLe7briRW0",
        "outputId": "8a8b8d52-ffc3-4574-f534-fe0372bffdd1"
      },
      "execution_count": null,
      "outputs": [
        {
          "output_type": "stream",
          "name": "stdout",
          "text": [
            "\u001b[1m15/15\u001b[0m \u001b[32m━━━━━━━━━━━━━━━━━━━━\u001b[0m\u001b[37m\u001b[0m \u001b[1m0s\u001b[0m 7ms/step\n"
          ]
        }
      ]
    },
    {
      "cell_type": "code",
      "source": [
        "# Convert probabilities to class labels\n",
        "y_pred = np.argmax(y_pred_probs, axis=1)  # Predicted labels\n",
        "y_true = np.argmax(y_test, axis=1)        # True labels"
      ],
      "metadata": {
        "id": "nS_N4LTbpm2s"
      },
      "execution_count": null,
      "outputs": []
    },
    {
      "cell_type": "code",
      "source": [
        "from sklearn.metrics import confusion_matrix, ConfusionMatrixDisplay\n",
        "import seaborn as sns"
      ],
      "metadata": {
        "id": "PvgcPrIDprUn"
      },
      "execution_count": null,
      "outputs": []
    },
    {
      "cell_type": "code",
      "source": [
        "cm = confusion_matrix(y_true,y_pred)"
      ],
      "metadata": {
        "id": "QYV_gYBnpr3p"
      },
      "execution_count": null,
      "outputs": []
    },
    {
      "cell_type": "code",
      "source": [
        "sns.heatmap(cm, annot=True, fmt=\"g\", cmap=\"Blues\")"
      ],
      "metadata": {
        "colab": {
          "base_uri": "https://localhost:8080/",
          "height": 448
        },
        "id": "C3UFceGrpzlF",
        "outputId": "126e13b2-a0ba-4800-9f9e-a192fcbb0b11"
      },
      "execution_count": null,
      "outputs": [
        {
          "output_type": "execute_result",
          "data": {
            "text/plain": [
              "<Axes: >"
            ]
          },
          "metadata": {},
          "execution_count": 74
        },
        {
          "output_type": "display_data",
          "data": {
            "text/plain": [
              "<Figure size 640x480 with 2 Axes>"
            ],
            "image/png": "[encoded data removed]"
          },
          "metadata": {}
        }
      ]
    },
    {
      "cell_type": "code",
      "source": [
        "# Plot the confusion matrix\n",
        "plt.figure(figsize=(8, 6))\n",
        "sns.heatmap(cm, annot=True, fmt=\"d\", cmap=\"Blues\", xticklabels=['FN','OZ', 'S'], yticklabels=['FN','OZ', 'S'])\n",
        "plt.xlabel('Predicted Labels')\n",
        "plt.ylabel('True Labels')\n",
        "plt.title('Confusion Matrix')\n",
        "plt.show()"
      ],
      "metadata": {
        "colab": {
          "base_uri": "https://localhost:8080/",
          "height": 564
        },
        "id": "XVEqvtxgp1jM",
        "outputId": "1495ee2e-b788-4d6e-e10a-24db60f6d91a"
      },
      "execution_count": null,
      "outputs": [
        {
          "output_type": "display_data",
          "data": {
            "text/plain": [
              "<Figure size 800x600 with 2 Axes>"
            ],
            "image/png": "[encoded data removed]"
          },
          "metadata": {}
        }
      ]
    },
    {
      "cell_type": "code",
      "source": [
        "incorr_fraction = 1 - np.diag(cm) / np.sum(cm, axis=1)\n",
        "plt.bar(np.arange(3), incorr_fraction)\n",
        "plt.xlabel('True Label')\n",
        "plt.ylabel('Fraction of incorrect predictions')"
      ],
      "metadata": {
        "colab": {
          "base_uri": "https://localhost:8080/",
          "height": 467
        },
        "id": "OuomevGfqJ60",
        "outputId": "61434c9e-06ee-46db-f948-e777e5c08d6f"
      },
      "execution_count": null,
      "outputs": [
        {
          "output_type": "execute_result",
          "data": {
            "text/plain": [
              "Text(0, 0.5, 'Fraction of incorrect predictions')"
            ]
          },
          "metadata": {},
          "execution_count": 76
        },
        {
          "output_type": "display_data",
          "data": {
            "text/plain": [
              "<Figure size 640x480 with 1 Axes>"
            ],
            "image/png": "[encoded data removed]"
          },
          "metadata": {}
        }
      ]
    },
    {
      "cell_type": "code",
      "source": [
        "from sklearn.metrics import classification_report,roc_auc_score,recall_score,accuracy_score,f1_score"
      ],
      "metadata": {
        "id": "E-45AXxQqNwX"
      },
      "execution_count": null,
      "outputs": []
    },
    {
      "cell_type": "code",
      "source": [
        "print(classification_report(y_true, y_pred, target_names=['FN','OZ', 'S']))"
      ],
      "metadata": {
        "colab": {
          "base_uri": "https://localhost:8080/"
        },
        "id": "MYbTCxAEqUrZ",
        "outputId": "26ed1995-d624-46cb-9630-bc4d7e5c507f"
      },
      "execution_count": null,
      "outputs": [
        {
          "output_type": "stream",
          "name": "stdout",
          "text": [
            "              precision    recall  f1-score   support\n",
            "\n",
            "          FN       0.98      0.87      0.92       173\n",
            "          OZ       0.91      0.97      0.94       188\n",
            "           S       0.91      0.98      0.94        89\n",
            "\n",
            "    accuracy                           0.93       450\n",
            "   macro avg       0.93      0.94      0.93       450\n",
            "weighted avg       0.94      0.93      0.93       450\n",
            "\n"
          ]
        }
      ]
    }
  ]
}